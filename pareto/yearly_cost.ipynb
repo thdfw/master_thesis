{
 "cells": [
  {
   "cell_type": "code",
   "execution_count": 1,
   "id": "286eeb36-d715-4cdd-94e9-22560aa60e03",
   "metadata": {},
   "outputs": [],
   "source": [
    "import os\n",
    "import pandas as pd\n",
    "import numpy as np\n",
    "import matplotlib.pyplot as plt"
   ]
  },
  {
   "cell_type": "code",
   "execution_count": 2,
   "id": "53c1d735-c7fb-40af-b883-ace1fe28b298",
   "metadata": {},
   "outputs": [],
   "source": [
    "# Define COP(LWT, T_OA)\n",
    "COP_table = [[0,-25,-20,-15,-7,-4,-2,2,7,10,15,18,20,35],\n",
    "      [30,2.13,2.34,2.55,3.15,3.36,3.47,3.69,4.93,5.22,5.99,6.29,6.49,7.98],\n",
    "      [35,1.85,2.13,2.40,3.00,3.17,3.28,3.50,4.60,4.87,5.56,5.84,6.02,7.41],\n",
    "      [40,1.58,1.91,2.25,2.85,2.97,3.09,3.31,4.27,4.51,5.13,5.39,5.56,6.84],\n",
    "      [45,1.30,1.70,2.10,2.70,2.78,2.90,3.12,3.93,4.16,4.71,4.94,5.10,6.28],\n",
    "      [50,1.49,1.49,1.95,2.55,2.59,2.71,2.93,3.60,3.81,4.28,4.49,4.64,5.71],\n",
    "      [55,1.80,1.80,1.80,2.40,2.39,2.53,2.73,2.80,3.46,3.85,4.05,4.17,5.14],\n",
    "      [60,2.25,2.25,2.25,2.25,2.20,2.34,2.54,2.60,3.10,3.43,3.60,3.71,4.57],\n",
    "      [65,2.05,2.05,2.05,2.05,2.05,2.15,2.35,2.60,2.75,3.00,3.15,3.25,4.00]]\n",
    "\n",
    "COP = pd.DataFrame(COP_table[1:], columns=COP_table[0]).T\n",
    "COP.columns = COP.iloc[0]\n",
    "COP = COP[1:]\n",
    "\n",
    "def get_COP(LWT, T_OA):\n",
    "    COP_polyfit = np.polyfit(list(COP.index), list(COP[LWT]), 3)\n",
    "    COPs = np.polyval(COP_polyfit, T_OA)\n",
    "    return round(COPs,5)"
   ]
  },
  {
   "cell_type": "code",
   "execution_count": 3,
   "id": "8b8dd518-d148-47cd-8414-4dfff6d138ef",
   "metadata": {},
   "outputs": [
    {
     "name": "stdout",
     "output_type": "stream",
     "text": [
      "The storage levels at every hour are:\n",
      "[0.0, 0.11, 6.37, 12.74, 19.0]...\n"
     ]
    }
   ],
   "source": [
    "# Read hourly storage levels from terminal output\n",
    "Q_stor = []\n",
    "with open(\"data/yearly_simulations/42kWh_364.txt\", 'r') as file:\n",
    "    for line in file:\n",
    "        index_start = line.find(\"level: \")\n",
    "        index_end = line.find(\"kWh\", index_start)\n",
    "        if index_start != -1 and index_end != -1:\n",
    "            level = float(line[index_start + len(\"level: \"):index_end].strip())\n",
    "            Q_stor.append(level)\n",
    "\n",
    "print(f\"The storage levels at every hour are:\\n{[round(x,2) for x in Q_stor[:5]]}...\")"
   ]
  },
  {
   "cell_type": "code",
   "execution_count": 4,
   "id": "3c70e119-c0ba-4b6e-af2f-a868ba82c819",
   "metadata": {},
   "outputs": [
    {
     "name": "stdout",
     "output_type": "stream",
     "text": [
      "The T_OA at every hour are:\n",
      "[-3.89, -3.33, -2.78, -3.33, -3.33]...\n",
      "\n",
      "The COP at every hour are:\n",
      "[2.3, 2.32, 2.34, 2.32, 2.32]...\n",
      "\n",
      "The Q_load at every hour are:\n",
      "[5.91, 5.77, 5.67, 5.77, 5.71]...\n",
      "\n",
      "The c_el at every hour are:\n",
      "[69.39, 64.75, 63.84, 63.31, 63.17]...\n",
      "\n",
      "The median electricity price is: 69.12\n"
     ]
    },
    {
     "data": {
      "image/png": "[encoded data removed]",
      "text/plain": [
       "<Figure size 432x288 with 1 Axes>"
      ]
     },
     "metadata": {
      "needs_background": "light"
     },
     "output_type": "display_data"
    }
   ],
   "source": [
    "# Get yearly data\n",
    "df = pd.read_excel(os.getcwd()+'/data/gridworks_yearly_data.xlsx', header=3, index_col = 0)\n",
    "df['load'] = df['House Power Required AvgKw']\n",
    "df['c_el'] = df['Total Delivered Energy Cost ($/MWh)']\n",
    "df['T_OA'] = df['Outside Temp F']\n",
    "\n",
    "# Outside air\n",
    "T_OA = list(df.T_OA)\n",
    "T_OA = [(x-32)*5/9 for x in T_OA]\n",
    "print(f\"The T_OA at every hour are:\\n{[round(x,2) for x in T_OA[:5]]}...\")\n",
    "\n",
    "# COP\n",
    "COPs = [get_COP(60,x) for x in T_OA]\n",
    "print(f\"\\nThe COP at every hour are:\\n{[round(x,2) for x in COPs[:5]]}...\")\n",
    "\n",
    "# Load\n",
    "Q_load = list(df.load)\n",
    "print(f\"\\nThe Q_load at every hour are:\\n{Q_load[:5]}...\")\n",
    "\n",
    "# Electricity prices\n",
    "c_el = list(df.c_el)\n",
    "print(f\"\\nThe c_el at every hour are:\\n{[round(x,2) for x in c_el[:5]]}...\")\n",
    "\n",
    "print(f\"\\nThe median electricity price is: {round(np.median(c_el),2)}\")\n",
    "plt.boxplot(c_el)\n",
    "plt.show()"
   ]
  },
  {
   "cell_type": "code",
   "execution_count": 5,
   "id": "ba975db0-8636-4bc3-aa31-ffebe64b6aff",
   "metadata": {},
   "outputs": [
    {
     "name": "stdout",
     "output_type": "stream",
     "text": [
      "Total Q_HP: 28049.02 kWh_th\n",
      "Total Q_el: 11577.76 kWh_el\n",
      "\n",
      "Total cost (pareto): 710.89 $\n",
      "Total cost (no load shifting): 1719.53 $\n"
     ]
    }
   ],
   "source": [
    "Q_HP = []\n",
    "for t in range(len(Q_stor)-2):\n",
    "    Q_HP.append(Q_stor[t+1] - Q_stor[t] + Q_load[t])\n",
    "Q_HP += [12, 12, 12, 12, 12, 12, 12, 0, 0, 0, 0, 0, 12, 12, 6.7, 12, 0, 0, 0, 0, 12, 12, 12, 12]\n",
    "print(f\"Total Q_HP: {round(sum(Q_HP),2)} kWh_th\")\n",
    "\n",
    "Q_el = [Q_HP[i]/COPs[i] for i in range(len(Q_HP))]\n",
    "print(f\"Total Q_el: {round(sum(Q_el),2)} kWh_el\")\n",
    "\n",
    "# Total costs with Pareto\n",
    "costs = [Q_el[i]*c_el[i]/1000 for i in range(len(Q_el))]\n",
    "print(f\"\\nTotal cost (pareto): {round(sum(costs),2)} $\")\n",
    "\n",
    "# Total costs without load shifting\n",
    "costs_no_shift = [Q_load[i]/COPs[i]*c_el[i]/1000 for i in range(len(Q_el))]\n",
    "print(f\"Total cost (no load shifting): {round(sum(costs_no_shift),2)} $\")"
   ]
  }
 ],
 "metadata": {
  "kernelspec": {
   "display_name": "Python 3 (ipykernel)",
   "language": "python",
   "name": "python3"
  },
  "language_info": {
   "codemirror_mode": {
    "name": "ipython",
    "version": 3
   },
   "file_extension": ".py",
   "mimetype": "text/x-python",
   "name": "python",
   "nbconvert_exporter": "python",
   "pygments_lexer": "ipython3",
   "version": "3.8.11"
  }
 },
 "nbformat": 4,
 "nbformat_minor": 5
}
