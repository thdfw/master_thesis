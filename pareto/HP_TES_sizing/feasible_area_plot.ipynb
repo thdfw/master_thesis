{
 "cells": [
  {
   "cell_type": "code",
   "execution_count": 1,
   "id": "d7326224-03fd-4b80-83cd-80f719a54eaf",
   "metadata": {},
   "outputs": [],
   "source": [
    "import pandas as pd\n",
    "import numpy as np\n",
    "import matplotlib.pyplot as plt\n",
    "import random\n",
    "import casadi\n",
    "import os\n",
    "import sys\n",
    "from matplotlib.ticker import FuncFormatter\n",
    "\n",
    "storage_range = np.linspace(2, 40, 5)\n",
    "heatpump_range = np.linspace(2, 30, 5)\n",
    "\n",
    "cost_values = np.array([[ np.nan,  np.nan,  np.nan,  np.nan,  np.nan],\n",
    "       [2.87, 1.98, 1.48, 1.28, 1.26],\n",
    "       [2.87, 1.97, 1.42, 1.14, 1.  ],\n",
    "       [2.87, 1.96, 1.4 , 1.12, 0.98],\n",
    "       [2.87, 1.96, 1.4 , 1.11, 0.97]])\n",
    "\n",
    "cost_values2 = np.array([[  np.nan,   np.nan,   np.nan,   np.nan,   np.nan],\n",
    "       [  np.nan,   np.nan,   np.nan,   np.nan,   np.nan],\n",
    "       [  np.nan,   np.nan,   np.nan,   np.nan,   np.nan],\n",
    "       [12.15, 11.11, 10.28,  9.92,  9.86],\n",
    "       [12.15, 11.09, 10.06,  9.19,  8.35]])"
   ]
  },
  {
   "cell_type": "code",
   "execution_count": 2,
   "id": "2651de2c-b8e6-4c74-b008-2ea150da68bf",
   "metadata": {},
   "outputs": [
    {
     "data": {
      "image/png": "[encoded data removed]",
      "text/plain": [
       "<Figure size 432x288 with 1 Axes>"
      ]
     },
     "metadata": {
      "needs_background": "light"
     },
     "output_type": "display_data"
    }
   ],
   "source": [
    "# rows: heat pump capacity\n",
    "# cols: storage capacity\n",
    "\n",
    "num_hp = len(cost_values[:][0])\n",
    "num_stor = len(cost_values[0])\n",
    "\n",
    "# Iterate over indices and assign colors based on non-np.nan values\n",
    "for i in range(num_hp):\n",
    "    for j in range(num_stor):\n",
    "        \n",
    "        # First load\n",
    "        if not np.isnan(cost_values[i][j]):\n",
    "            cost_values[i][j] = 1\n",
    "        else:\n",
    "            cost_values[i][j] = np.nan\n",
    "\n",
    "        # Second load\n",
    "        if not np.isnan(cost_values2[i][j]):\n",
    "            cost_values2[i][j] = 1\n",
    "        else:\n",
    "            cost_values2[i][j] = np.nan\n",
    "\n",
    "# Plot filled area\n",
    "plt.pcolormesh(np.transpose(cost_values), cmap='viridis', edgecolors='none',alpha=0.3)\n",
    "plt.pcolormesh(np.transpose(cost_values2), cmap='coolwarm', edgecolors='none',alpha=0.3)\n",
    "\n",
    "# Set labels and title\n",
    "plt.xlabel('Heat pump size')\n",
    "plt.ylabel('Storage size')\n",
    "plt.title('Feasible area')\n",
    "\n",
    "# Get current xticks and multiply each by 2\n",
    "xticks = plt.xticks()[0]\n",
    "modified_xticks = [round(heatpump_range[int(x-1)]) if x>0 else 0 for x in xticks]\n",
    "yticks = plt.yticks()[0]\n",
    "modified_yticks = [round(storage_range[int(x-1)]) if x>0 else 0 for x in yticks]\n",
    "\n",
    "# Set the modified xticks back to the plot\n",
    "plt.xticks(xticks, modified_xticks)\n",
    "plt.yticks(yticks, modified_yticks)\n",
    "\n",
    "plt.xlim([-0.5,num_hp+0.5])\n",
    "plt.ylim([-0.5,num_stor+0.5])\n",
    "\n",
    "plt.show()"
   ]
  }
 ],
 "metadata": {
  "kernelspec": {
   "display_name": "Python 3 (ipykernel)",
   "language": "python",
   "name": "python3"
  },
  "language_info": {
   "codemirror_mode": {
    "name": "ipython",
    "version": 3
   },
   "file_extension": ".py",
   "mimetype": "text/x-python",
   "name": "python",
   "nbconvert_exporter": "python",
   "pygments_lexer": "ipython3",
   "version": "3.8.11"
  }
 },
 "nbformat": 4,
 "nbformat_minor": 5
}
