{
 "cells": [
  {
   "cell_type": "code",
   "execution_count": 10,
   "metadata": {},
   "outputs": [],
   "source": [
    "import pandas as pd\n",
    "import numpy as np\n",
    "import matplotlib.pyplot as plt\n",
    "import casadi\n",
    "import os\n",
    "import sys\n",
    "import statsmodels.formula.api as smf"
   ]
  },
  {
   "cell_type": "code",
   "execution_count": 11,
   "metadata": {},
   "outputs": [],
   "source": [
    "# Get COP regression as a function of T_OA\n",
    "T_OA_table = list(range(-15,40,5))\n",
    "COP_table = 1.7,2.3,2.3,2.43,2.63,2.78,3.36,3.79,3.99,4.12,5.10\n",
    "df = pd.DataFrame({'temp':T_OA_table,'cop':COP_table})\n",
    "mod = smf.ols(formula='cop ~ temp', data=df)\n",
    "np.random.seed(2) \n",
    "res = mod.fit()"
   ]
  },
  {
   "cell_type": "markdown",
   "metadata": {},
   "source": [
    "### Optimal OPEX ($/horizon)"
   ]
  },
  {
   "cell_type": "code",
   "execution_count": 12,
   "metadata": {},
   "outputs": [],
   "source": [
    "def optimal_opex(max_storage, max_Q_HP, forecasts, PLOT):\n",
    "\n",
    "    # Unpack forecasts and get parameters\n",
    "    N = forecasts['horizon']\n",
    "    elec = forecasts['elec']\n",
    "    load = forecasts['load']\n",
    "    COP_list = [round(res.params.Intercept+t*res.params.temp,2) for t in forecasts['T_OA']]\n",
    "    min_Q_HP = max_Q_HP*0.2\n",
    "\n",
    "    # Initialize    \n",
    "    opti = casadi.Opti('conic')\n",
    " \n",
    "    # -----------------------------\n",
    "    # Variables and solver\n",
    "    # -----------------------------\n",
    "    \n",
    "    Q_stor = opti.variable(1,N+1)   # state\n",
    "    Q_HP = opti.variable(1,N)       # input\n",
    "    delta_HP = opti.variable(1,N)   # input\n",
    "    Q_HP_onoff = opti.variable(1,N) # input (derived)\n",
    "    \n",
    "    # delta_HP is a discrete variable (binary)\n",
    "    discrete_var = [0]*(N+1) + [0]*N + [1]*N + [0]*N\n",
    "\n",
    "    # Solver\n",
    "    opti.solver('gurobi', {'discrete':discrete_var, 'gurobi.OutputFlag':0})\n",
    "\n",
    "    # -----------------------------\n",
    "    # Constraints\n",
    "    # -----------------------------\n",
    "    \n",
    "    # Initial Q_stor level\n",
    "    opti.subject_to(Q_stor[0] == 0)\n",
    "\n",
    "    # Constraints at every time step\n",
    "    for t in range(N+1):\n",
    "\n",
    "        # Bounds on storage\n",
    "        opti.subject_to(Q_stor[t] >= 0)\n",
    "        opti.subject_to(Q_stor[t] <= max_storage)\n",
    "\n",
    "        if t < N:\n",
    "            \n",
    "            # System dynamics\n",
    "            opti.subject_to(Q_stor[t+1] == Q_stor[t] + Q_HP_onoff[t] - load[t])\n",
    "    \n",
    "            # Bounds on delta_HP\n",
    "            opti.subject_to(delta_HP[t] >= 0)\n",
    "            opti.subject_to(delta_HP[t] <= 1)\n",
    "        \n",
    "            # Bounds on Q_HP\n",
    "            opti.subject_to(Q_HP[t] <= max_Q_HP)    \n",
    "            opti.subject_to(Q_HP[t] >= min_Q_HP*delta_HP[t])\n",
    "        \n",
    "            # Bilinear to linear\n",
    "            opti.subject_to(Q_HP_onoff[t] <= max_Q_HP*delta_HP[t])\n",
    "            opti.subject_to(Q_HP_onoff[t] >= min_Q_HP*delta_HP[t])\n",
    "            opti.subject_to(Q_HP_onoff[t] <= Q_HP[t] + min_Q_HP*(delta_HP[t]-1))\n",
    "            opti.subject_to(Q_HP_onoff[t] >= Q_HP[t] + max_Q_HP*(delta_HP[t]-1))\n",
    "    \n",
    "    # -----------------------------\n",
    "    # Objective\n",
    "    # -----------------------------\n",
    "    \n",
    "    obj = sum(Q_HP_onoff[t]*elec[t]/COP_list[t] for t in range(N))\n",
    "    opti.minimize(obj)\n",
    "\n",
    "    # -----------------------------\n",
    "    # Solve and get optimal values\n",
    "    # -----------------------------\n",
    "\n",
    "    sol = opti.solve()\n",
    "\n",
    "    Q_opt = sol.value(Q_HP_onoff)\n",
    "    stor_opt = sol.value(Q_stor)\n",
    "    obj_opt = round(sol.value(obj),3)\n",
    "\n",
    "    if PLOT:\n",
    "        fig, ax = plt.subplots(1,1, figsize=(13,4))\n",
    "        ax2 = ax.twinx()\n",
    "        ax2.step(range(N), elec, where='post', color='gray', alpha=0.2)\n",
    "        ax.step(range(N), Q_opt, where='post', color='blue', alpha=0.6)\n",
    "        ax.step(range(N), load, where='post', color='red', alpha=0.6)\n",
    "        ax.plot(stor_opt, color='orange', alpha=0.6)\n",
    "        plt.show()\n",
    "\n",
    "    return obj_opt"
   ]
  },
  {
   "cell_type": "markdown",
   "metadata": {},
   "source": [
    "### Estimated CAPEX ($/year)"
   ]
  },
  {
   "cell_type": "code",
   "execution_count": 13,
   "metadata": {},
   "outputs": [],
   "source": [
    "def estimated_capex(storage_size, heatpump_size, lifetime):\n",
    "    \n",
    "    A = [5,8,12,16]\n",
    "    C = [1984,2235,3257,3616]\n",
    "    C_polyfit = np.polyfit(A, C, 2)\n",
    "    capex_HP = np.polyval(C_polyfit, storage_size)\n",
    "\n",
    "    A = [6, 9, 12]\n",
    "    C = [2416, 2857, 3297]\n",
    "    C_polyfit = np.polyfit(A, C, 2)\n",
    "    capex_TES = np.polyval(C_polyfit, heatpump_size)\n",
    "\n",
    "    capex = capex_HP + capex_TES\n",
    "    capex_yearly = capex / lifetime\n",
    "\n",
    "    return round(capex_yearly,3)"
   ]
  },
  {
   "cell_type": "markdown",
   "metadata": {},
   "source": [
    "### Yearly data for electricity price, weather, and load"
   ]
  },
  {
   "cell_type": "code",
   "execution_count": 14,
   "metadata": {},
   "outputs": [
    {
     "data": {
      "text/html": [
       "<div>\n",
       "<style scoped>\n",
       "    .dataframe tbody tr th:only-of-type {\n",
       "        vertical-align: middle;\n",
       "    }\n",
       "\n",
       "    .dataframe tbody tr th {\n",
       "        vertical-align: top;\n",
       "    }\n",
       "\n",
       "    .dataframe thead th {\n",
       "        text-align: right;\n",
       "    }\n",
       "</style>\n",
       "<table border=\"1\" class=\"dataframe\">\n",
       "  <thead>\n",
       "    <tr style=\"text-align: right;\">\n",
       "      <th></th>\n",
       "      <th>elec</th>\n",
       "      <th>load</th>\n",
       "      <th>T_OA</th>\n",
       "    </tr>\n",
       "  </thead>\n",
       "  <tbody>\n",
       "    <tr>\n",
       "      <th>2022-01-01 00:00:00</th>\n",
       "      <td>69.39</td>\n",
       "      <td>4.728</td>\n",
       "      <td>-3.89</td>\n",
       "    </tr>\n",
       "    <tr>\n",
       "      <th>2022-01-01 01:00:00</th>\n",
       "      <td>64.75</td>\n",
       "      <td>4.616</td>\n",
       "      <td>-3.33</td>\n",
       "    </tr>\n",
       "    <tr>\n",
       "      <th>2022-01-01 02:00:00</th>\n",
       "      <td>63.84</td>\n",
       "      <td>4.536</td>\n",
       "      <td>-2.78</td>\n",
       "    </tr>\n",
       "    <tr>\n",
       "      <th>2022-01-01 03:00:00</th>\n",
       "      <td>63.31</td>\n",
       "      <td>4.616</td>\n",
       "      <td>-3.33</td>\n",
       "    </tr>\n",
       "    <tr>\n",
       "      <th>2022-01-01 04:00:00</th>\n",
       "      <td>63.17</td>\n",
       "      <td>4.568</td>\n",
       "      <td>-3.33</td>\n",
       "    </tr>\n",
       "  </tbody>\n",
       "</table>\n",
       "</div>"
      ],
      "text/plain": [
       "                      elec   load  T_OA\n",
       "2022-01-01 00:00:00  69.39  4.728 -3.89\n",
       "2022-01-01 01:00:00  64.75  4.616 -3.33\n",
       "2022-01-01 02:00:00  63.84  4.536 -2.78\n",
       "2022-01-01 03:00:00  63.31  4.616 -3.33\n",
       "2022-01-01 04:00:00  63.17  4.568 -3.33"
      ]
     },
     "execution_count": 14,
     "metadata": {},
     "output_type": "execute_result"
    }
   ],
   "source": [
    "df = pd.read_excel(os.getcwd()+'/data/gridworks_yearly_data.xlsx', header=3, index_col = 0)\n",
    "df.index = pd.to_datetime(df.index)\n",
    "df.index.name = None\n",
    "df['elec'] = df['Total Delivered Energy Cost ($/MWh)']\n",
    "df['load'] = df['House Power Required AvgKw'] *0.8\n",
    "df['T_OA'] = df['Outside Temp F']\n",
    "df['T_OA'] = df['T_OA'].apply(lambda x: round(5/9 * (x-32),2))\n",
    "df = df[['elec', 'load', 'T_OA']]\n",
    "df.head()"
   ]
  },
  {
   "cell_type": "code",
   "execution_count": 15,
   "metadata": {},
   "outputs": [],
   "source": [
    "CFH_prices = {\n",
    "    'WinterHDP': [0.0718, 0.0445, 0.0202, 0.011, 0.0331, 0.11, 0.2672, 0.3077, 0.2163, 0.1584, \n",
    "                  0.1264, 0.1047, 0.1318, 0.1835, 0.2485, 0.3123, 0.3961, 0.5254, 0.4974, 0.4525, \n",
    "                  0.3918, 0.3113, 0.1998, 0.1106], \n",
    "    'SpringHDP': [0.1714, 0.144, 0.1385, 0.1518, 0.1829, 0.2713, 0.4659, 0.5328, 0.28, 0.1158, \n",
    "                  0.0398, 0.0196, 0.011, 0.0188, 0.0255, 0.0632, 0.0957, 0.2358, 0.4931, 0.6618, \n",
    "                  0.5364, 0.4116, 0.2905, 0.2209], \n",
    "    'SummerHDP': [0.0864, 0.0587, 0.0385, 0.0246, 0.0165, 0.0215, 0.0359, 0.0206, 0.0106, 0.0192, \n",
    "                  0.0309, 0.0612, 0.0925, 0.1244, 0.1667, 0.2148, 0.3563, 0.4893, 0.7098, 0.7882, \n",
    "                  0.5586, 0.3326, 0.2152, 0.1487], \n",
    "    'FallHDP': [0.2052, 0.1284, 0.0792, 0.0531, 0.0551, 0.1193, 0.2737, 0.27, 0.0916, 0.011, 0.0389, \n",
    "                0.0238, 0.0366, 0.0611, 0.0998, 0.1888, 0.3046, 0.5198, 0.7248, 0.6936, 0.4961, 0.3569, \n",
    "                0.1822, 0.0413]\n",
    " }\n",
    "\n",
    "yearly_elecs = []\n",
    "for j in range(1,13):\n",
    "    if j==1: yearly_elecs.extend(CFH_prices['WinterHDP']*31)\n",
    "    if j==2: yearly_elecs.extend(CFH_prices['WinterHDP']*28)\n",
    "    if j==3: yearly_elecs.extend(CFH_prices['SpringHDP']*31)\n",
    "    if j==4: yearly_elecs.extend(CFH_prices['SpringHDP']*30)\n",
    "    if j==5: yearly_elecs.extend(CFH_prices['SpringHDP']*31)\n",
    "    if j==6: yearly_elecs.extend(CFH_prices['SummerHDP']*30)\n",
    "    if j==7: yearly_elecs.extend(CFH_prices['SummerHDP']*31)\n",
    "    if j==8: yearly_elecs.extend(CFH_prices['SummerHDP']*31)\n",
    "    if j==9: yearly_elecs.extend(CFH_prices['FallHDP']*30)\n",
    "    if j==10: yearly_elecs.extend(CFH_prices['FallHDP']*31)\n",
    "    if j==11: yearly_elecs.extend(CFH_prices['FallHDP']*30)\n",
    "    if j==12: yearly_elecs.extend(CFH_prices['WinterHDP']*31)"
   ]
  },
  {
   "cell_type": "markdown",
   "metadata": {},
   "source": [
    "### TOTEX ($/year)"
   ]
  },
  {
   "cell_type": "code",
   "execution_count": 16,
   "metadata": {},
   "outputs": [],
   "source": [
    "def yearly_totex(storage_size, heatpump_size, lifetime, forecasts, PLOT):\n",
    "\n",
    "    try:\n",
    "        capex = estimated_capex(storage_size, heatpump_size, lifetime)\n",
    "        opex = optimal_opex(storage_size, heatpump_size, forecasts, PLOT)\n",
    "        totex = capex + opex\n",
    "\n",
    "        if PLOT:\n",
    "            print(f'CAPEX = {capex} $/year')\n",
    "            print(f'OPEX = {opex} $/horizon')\n",
    "        \n",
    "    except Exception as e:\n",
    "        return np.nan\n",
    "\n",
    "    return totex"
   ]
  },
  {
   "cell_type": "markdown",
   "metadata": {},
   "source": [
    "#### Example of a single day"
   ]
  },
  {
   "cell_type": "code",
   "execution_count": 17,
   "metadata": {},
   "outputs": [
    {
     "name": "stdout",
     "output_type": "stream",
     "text": [
      "Academic license - for non-commercial use only\n",
      "Academic license - for non-commercial use only\n"
     ]
    },
    {
     "data": {
      "image/png": "[encoded data removed]",
      "text/plain": [
       "<Figure size 936x288 with 2 Axes>"
      ]
     },
     "metadata": {
      "needs_background": "light"
     },
     "output_type": "display_data"
    },
    {
     "name": "stdout",
     "output_type": "stream",
     "text": [
      "CAPEX = 374.202 $/year\n",
      "OPEX = 4.368 $/horizon\n",
      "378.57\n"
     ]
    }
   ],
   "source": [
    "forecasts = {\n",
    "    'horizon': 24,\n",
    "    'elec': yearly_elecs[:24],\n",
    "    'load': list(df.load)[:24],\n",
    "    'T_OA': list(df.T_OA)[:24],\n",
    "    }\n",
    "\n",
    "totex = yearly_totex(20, 12, 20, forecasts, True)"
   ]
  },
  {
   "cell_type": "markdown",
   "metadata": {},
   "source": [
    "#### Examples of a year"
   ]
  },
  {
   "cell_type": "code",
   "execution_count": 18,
   "metadata": {},
   "outputs": [
    {
     "name": "stdout",
     "output_type": "stream",
     "text": [
      "Academic license - for non-commercial use only\n",
      "Academic license - for non-commercial use only\n"
     ]
    },
    {
     "data": {
      "image/png": "[encoded data removed]",
      "text/plain": [
       "<Figure size 936x288 with 2 Axes>"
      ]
     },
     "metadata": {
      "needs_background": "light"
     },
     "output_type": "display_data"
    },
    {
     "name": "stdout",
     "output_type": "stream",
     "text": [
      "CAPEX = 374.202 $/year\n",
      "OPEX = 941.108 $/horizon\n",
      "1315.31\n"
     ]
    }
   ],
   "source": [
    "forecasts = {\n",
    "    'horizon': len(df),\n",
    "    'elec': yearly_elecs,\n",
    "    'load': list(df.load),\n",
    "    'T_OA': list(df.T_OA),\n",
    "    }\n",
    "\n",
    "totex = yearly_totex(20, 12, 20, forecasts, True)\n",
    "print(totex)"
   ]
  },
  {
   "cell_type": "code",
   "execution_count": 19,
   "metadata": {},
   "outputs": [],
   "source": [
    "totex = yearly_totex(50, 12, 20, forecasts, True)\n",
    "print(totex)"
   ]
  },
  {
   "cell_type": "markdown",
   "metadata": {},
   "source": [
    "### Finding the optimal equipment sizes"
   ]
  },
  {
   "cell_type": "code",
   "execution_count": null,
   "metadata": {},
   "outputs": [],
   "source": [
    "forecasts = {\n",
    "    'horizon': len(df),\n",
    "    'elec': yearly_elecs,\n",
    "    'load': list(df.load),\n",
    "    'T_OA': list(df.T_OA),\n",
    "    }\n",
    "\n",
    "lifetime = 20\n",
    "\n",
    "# Create a grid of equipment sizes\n",
    "storage_range = np.linspace(5, 60, 5)\n",
    "heatpump_range = np.linspace(5, 35, 5)\n",
    "storage_grid, heatpump_grid = np.meshgrid(storage_range, heatpump_range)\n",
    "\n",
    "# Get the TOTEX for all combinations in the grid\n",
    "cost_values = np.vectorize(yearly_totex, excluded=['lifetime', 'forecasts', 'PLOT'])(storage_grid, heatpump_grid, lifetime, forecasts, False)"
   ]
  },
  {
   "cell_type": "code",
   "execution_count": null,
   "metadata": {},
   "outputs": [],
   "source": [
    "min_index = np.unravel_index(np.nanargmin(cost_values), cost_values.shape)\n",
    "min_storage_value = storage_grid[min_index]\n",
    "min_heatpump_value = heatpump_grid[min_index]\n",
    "\n",
    "fig = plt.figure(figsize=(10,8))\n",
    "ax = fig.add_subplot(projection='3d')\n",
    "\n",
    "surface = ax.plot_surface(storage_grid, heatpump_grid, cost_values, cmap='viridis', alpha=0.7)\n",
    "ax.scatter(min_storage_value, min_heatpump_value, cost_values[min_index], color='red', s=100)\n",
    "\n",
    "ax.set_title(f'Lowest total cost reached for\\nHeat pump: {round(min_heatpump_value)} kW, Storage: {round(min_storage_value)} kWh')\n",
    "ax.set_xlabel('Storage capacity [kWh]')\n",
    "ax.set_ylabel('Heat pump capacity [kWh]')\n",
    "ax.set_zlabel('Cost')\n",
    "ax.set_zticks([])\n",
    "\n",
    "plt.show()"
   ]
  },
  {
   "cell_type": "code",
   "execution_count": null,
   "metadata": {},
   "outputs": [],
   "source": []
  }
 ],
 "metadata": {
  "kernelspec": {
   "display_name": "Python 3 (ipykernel)",
   "language": "python",
   "name": "python3"
  },
  "language_info": {
   "codemirror_mode": {
    "name": "ipython",
    "version": 3
   },
   "file_extension": ".py",
   "mimetype": "text/x-python",
   "name": "python",
   "nbconvert_exporter": "python",
   "pygments_lexer": "ipython3",
   "version": "3.8.11"
  }
 },
 "nbformat": 4,
 "nbformat_minor": 4
}
