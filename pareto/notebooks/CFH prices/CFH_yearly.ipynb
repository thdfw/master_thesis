{
 "cells": [
  {
   "cell_type": "code",
   "execution_count": 1,
   "id": "b793833c-47cb-4ad9-857a-3bd2917fc8be",
   "metadata": {},
   "outputs": [],
   "source": [
    "import requests\n",
    "import numpy as np\n",
    "import pandas as pd\n",
    "import datetime \n",
    "import matplotlib.pyplot as plt"
   ]
  },
  {
   "cell_type": "code",
   "execution_count": 2,
   "id": "b9539f04-dbac-4ae6-b3af-16f420fd53c3",
   "metadata": {},
   "outputs": [
    {
     "name": "stdout",
     "output_type": "stream",
     "text": [
      "{'WinterHDP': [0.0718, 0.0445, 0.0202, 0.011, 0.0331, 0.11, 0.2672, 0.3077, 0.2163, 0.1584, 0.1264, 0.1047, 0.1318, 0.1835, 0.2485, 0.3123, 0.3961, 0.5254, 0.4974, 0.4525, 0.3918, 0.3113, 0.1998, 0.1106], 'SpringHDP': [0.1714, 0.144, 0.1385, 0.1518, 0.1829, 0.2713, 0.4659, 0.5328, 0.28, 0.1158, 0.0398, 0.0196, 0.011, 0.0188, 0.0255, 0.0632, 0.0957, 0.2358, 0.4931, 0.6618, 0.5364, 0.4116, 0.2905, 0.2209], 'SummerHDP': [0.0864, 0.0587, 0.0385, 0.0246, 0.0165, 0.0215, 0.0359, 0.0206, 0.0106, 0.0192, 0.0309, 0.0612, 0.0925, 0.1244, 0.1667, 0.2148, 0.3563, 0.4893, 0.7098, 0.7882, 0.5586, 0.3326, 0.2152, 0.1487], 'FallHDP': [0.2052, 0.1284, 0.0792, 0.0531, 0.0551, 0.1193, 0.2737, 0.27, 0.0916, 0.011, 0.0389, 0.0238, 0.0366, 0.0611, 0.0998, 0.1888, 0.3046, 0.5198, 0.7248, 0.6936, 0.4961, 0.3569, 0.1822, 0.0413]}\n"
     ]
    }
   ],
   "source": [
    "def get_rate(url):\n",
    "    r = requests.get(url)\n",
    "    price_dict = r.json()\n",
    "    interval_prices = price_dict.get('prices')\n",
    "    start_str = price_dict.get('timeOfFirstPriceLocal')\n",
    "    start_ts = pd.Timestamp(start_str)\n",
    "    interval_prices.insert(0, {'duration':'00:00:00'})\n",
    "    df = pd.DataFrame(interval_prices)\n",
    "    df.duration = pd.to_timedelta(df.duration)\n",
    "    df['end_time'] = start_ts + df.duration.cumsum()\n",
    "    hourly_df = df.set_index('end_time').resample('60T').bfill().reset_index()\n",
    "    hourly_df['start_time'] = hourly_df['end_time'] - hourly_df['end_time'].diff()\n",
    "    hourly_df = hourly_df.drop(index = 0)\n",
    "    return hourly_df.set_index('start_time')\n",
    "    \n",
    "url_base = 'https://api.olivineinc.com/i/lbnl/v1/prices/cfh/'\n",
    "endpoint_dict = {'SummerHDP': url_base + 'SummerHDP',\n",
    "                'SummerLD-TOU': url_base + 'SummerLD-TOU',\n",
    "                'SummerMildHDP':url_base + 'SummerMildHDP',\n",
    "                 'SummerHDPg':url_base + 'SummerHDPg',\n",
    "                 'FallHDP':url_base + 'FallHDP',\n",
    "                 'FallHDPg':url_base + 'FallHDPg',\n",
    "                 'WinterHDP':url_base + 'WinterHDP',\n",
    "                 'WinterHDPg':url_base + 'WinterHDPg',\n",
    "                 'SpringHDP':url_base + 'SpringHDP',\n",
    "                 'SpringHDPg':url_base + 'SpringHDPg',}\n",
    "\n",
    "prices_by_season = {}\n",
    "seasons = ['WinterHDP', 'SpringHDP', 'SummerHDP', 'FallHDP']\n",
    "\n",
    "for season in seasons:\n",
    "    df = get_rate(endpoint_dict[season])\n",
    "    df['hour'] = df.index.hour\n",
    "    df_sorted = df.sort_values(by='hour')\n",
    "    prices_by_season[season] = list(df_sorted.price)\n",
    "\n",
    "print(prices_by_season)"
   ]
  },
  {
   "cell_type": "code",
   "execution_count": 3,
   "id": "639ed41b-0269-4272-b116-71abbbcb8be8",
   "metadata": {},
   "outputs": [
    {
     "data": {
      "image/png": "[encoded data removed]",
      "text/plain": [
       "<Figure size 864x432 with 1 Axes>"
      ]
     },
     "metadata": {
      "needs_background": "light"
     },
     "output_type": "display_data"
    }
   ],
   "source": [
    "plt.figure(figsize=(12,6))\n",
    "for season in seasons:\n",
    "    plt.step(range(24), prices_by_season[season], label=season[:-3])\n",
    "plt.legend()\n",
    "plt.show()"
   ]
  },
  {
   "cell_type": "code",
   "execution_count": 4,
   "id": "49a956d3-a08b-4cb0-b42f-ac65d5015fb3",
   "metadata": {},
   "outputs": [],
   "source": [
    "# January 1 - March 18: Winter\n",
    "# March 19 - June 20: Spring\n",
    "# June 21 - September 21: Summer\n",
    "# September 22 - December 20: Fall\n",
    "# December 21 - December 31: Winter\n",
    "\n",
    "# Build yearly prices\n",
    "yearly_prices = (31+29+18)*prices_by_season['WinterHDP']\n",
    "yearly_prices += (13+30+31+20)*prices_by_season['SpringHDP']\n",
    "yearly_prices += (10+31+31+21)*prices_by_season['SummerHDP']\n",
    "yearly_prices += (9+31+30+20)*prices_by_season['FallHDP']\n",
    "yearly_prices += (10)*prices_by_season['FallHDP']"
   ]
  },
  {
   "cell_type": "code",
   "execution_count": null,
   "id": "dc826f59-a200-48a2-b33b-869c90bcd6d8",
   "metadata": {},
   "outputs": [],
   "source": []
  },
  {
   "cell_type": "code",
   "execution_count": null,
   "id": "3082bacc-8354-4bd5-ad6c-bc520807426c",
   "metadata": {},
   "outputs": [],
   "source": []
  }
 ],
 "metadata": {
  "kernelspec": {
   "display_name": "Python 3 (ipykernel)",
   "language": "python",
   "name": "python3"
  },
  "language_info": {
   "codemirror_mode": {
    "name": "ipython",
    "version": 3
   },
   "file_extension": ".py",
   "mimetype": "text/x-python",
   "name": "python",
   "nbconvert_exporter": "python",
   "pygments_lexer": "ipython3",
   "version": "3.8.11"
  }
 },
 "nbformat": 4,
 "nbformat_minor": 5
}
