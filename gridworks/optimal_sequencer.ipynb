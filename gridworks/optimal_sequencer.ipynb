{
 "cells": [
  {
   "cell_type": "markdown",
   "id": "247b39bc-8aa4-4cf2-adff-e11fca49dbe3",
   "metadata": {},
   "source": [
    "## Simple MPC for a heat pump and thermal energy storage system"
   ]
  },
  {
   "cell_type": "markdown",
   "id": "0bde6d07-2c1b-4a0d-a884-919e6b218941",
   "metadata": {},
   "source": [
    "![Setup](documentation/gridworks_setup.png)"
   ]
  },
  {
   "cell_type": "code",
   "execution_count": 1,
   "id": "4f35c385-e1bb-45a3-bde3-46c3b559b467",
   "metadata": {},
   "outputs": [],
   "source": [
    "import pandas as pd\n",
    "import numpy as np\n",
    "import matplotlib.pyplot as plt\n",
    "import random\n",
    "import casadi\n",
    "import os"
   ]
  },
  {
   "cell_type": "markdown",
   "id": "75c73caa-f9f4-4e70-a4a5-caec1249caea",
   "metadata": {},
   "source": [
    "## 1 - Estimating storage capacity"
   ]
  },
  {
   "cell_type": "markdown",
   "id": "364d737a-626a-4624-a5e8-28dac5af79f4",
   "metadata": {},
   "source": [
    "The system includes four water tanks of 450 L each. Setting a minimum water temperature $T_{min}$ defines the SoC of 0% at that temperature. From there we can estimate the storage capacity:\n",
    "\n",
    "\\begin{equation}\n",
    "\\text{Storage capactiy} = m \\cdot c_p \\cdot (T_{max}-T_{min}) \\ [kWh]\n",
    "\\end{equation}\n",
    "\n",
    "\\begin{equation}\n",
    "SoC(T) = \\frac{T-T_{min}}{T_{max}-T_{min}} \\ [\\%]\n",
    "\\end{equation}"
   ]
  },
  {
   "cell_type": "code",
   "execution_count": 2,
   "id": "cc2eb6a7-8529-4789-9c01-3b8b71cf2716",
   "metadata": {},
   "outputs": [
    {
     "name": "stdout",
     "output_type": "stream",
     "text": [
      "The storage capacity is 73.3 kWh.\n"
     ]
    }
   ],
   "source": [
    "# The maximum storage capacity (kWh)\n",
    "mass_of_water = 450*4 # 450kg water per tank\n",
    "max_temp, min_temp = 65, 30 #°C\n",
    "max_storage = mass_of_water * 4187 * (max_temp - min_temp) # in Joules\n",
    "max_storage = round(max_storage * 2.77778e-7,1) # in kWh\n",
    "\n",
    "print(f\"The storage capacity is {max_storage} kWh.\")"
   ]
  },
  {
   "cell_type": "markdown",
   "id": "47e06cb0-5397-418a-87a3-0077bbe65d11",
   "metadata": {},
   "source": [
    "## 2 - Forecasts"
   ]
  },
  {
   "cell_type": "markdown",
   "id": "9ecbc281-6b71-42a0-8737-210e410b35a0",
   "metadata": {},
   "source": [
    "The load is predicted on the outside air temperature. I didn't include the code for this here, but basically:\n",
    "- The outside air temperature forecast is obtained from pvlib (the data here is for a day in Feb 2024 in Maine)\n",
    "- The load is predicted based on the outside air temperature using random forests forecaster (from the fcLib library) with a yearly dataset of past data"
   ]
  },
  {
   "cell_type": "code",
   "execution_count": 3,
   "id": "a9ca6051-f479-4db3-89f5-04db3cfa390e",
   "metadata": {},
   "outputs": [],
   "source": [
    "# Outside air temperature [°C]\n",
    "T_OA = [-12.52, -12.28, -12.55, -14.18, -13.76, -13.96, -14.26, -14.13, \n",
    "        -13.99, -9.65, -6.86, -5.21, -3.69, -2.88, -2.36, -2.29, -3.91, \n",
    "        -5.52, -6.13, -6.58, -7.09, -7.43, -7.99, -8.68] \n",
    "\n",
    "# Load [kWh]\n",
    "load = [8.12, 8.07, 8.13, 8.57, 8.46, 8.51, 8.59, 8.55, 8.52, 7.4, \n",
    "        6.69, 6.26, 5.87, 5.68, 5.52, 5.5, 5.92, 6.34, 6.49, 6.61, 6.74, 6.81, 6.94, 7.15] "
   ]
  },
  {
   "cell_type": "markdown",
   "id": "96362a18-5a57-4dc6-8480-778bc9e1c92f",
   "metadata": {},
   "source": [
    "The electricity prices come with three options, to test the system in different conditions."
   ]
  },
  {
   "cell_type": "code",
   "execution_count": 4,
   "id": "3f606103-66b1-4146-83c5-bbe028c7110b",
   "metadata": {},
   "outputs": [],
   "source": [
    "# Electricity prices [cts/kWh]\n",
    "price_type = \"gridworks\"\n",
    "\n",
    "if price_type == \"gridworks\":\n",
    "    c_el = [6.36, 6.34, 6.34, 6.37, 6.41, 6.46, 6.95, 41.51,\n",
    "            41.16, 41.07, 41.06, 41.08, 7.16, 7.18, 7.18, 7.16, 41.2, 41.64,\n",
    "            41.43, 41.51, 6.84, 6.65, 6.46, 6.4]\n",
    "\n",
    "elif price_type == \"progressive\":\n",
    "    c_el = [18.97, 18.92, 18.21, 16.58, 16.27, 15.49, 14.64,\n",
    "            18.93, 45.56, 26.42, 18.0, 17.17, 16.19, 30.74, 31.17, 16.18,\n",
    "            17.11, 20.24, 24.94, 24.69, 26.48, 30.15, 23.14, 24.11]\n",
    "\n",
    "elif price_type == \"peter\":\n",
    "    c_el = [0.07919, 0.066283, 0.063061, 0.067943, 0.080084, 0.115845, \n",
    "                0.193755, 0.215921, 0.110822, 0.044927, 0.01521, 0.00742, \n",
    "                0.004151, 0.007117, 0.009745, 0.02452, 0.037877, 0.09556, \n",
    "                0.205067, 0.282588, 0.234866, 0.184225, 0.132268, 0.101679]\n",
    "    c_el = [x*100 for x in c_el]"
   ]
  },
  {
   "cell_type": "markdown",
   "id": "2cac9253-9590-4427-94dc-b0013137ee6f",
   "metadata": {},
   "source": [
    "## 3 - Estimating parameters from manufacturer data"
   ]
  },
  {
   "cell_type": "markdown",
   "id": "a2546117-1003-4e4e-869f-04acee1865f7",
   "metadata": {},
   "source": [
    "Estimate maximum heating power that the heat pump can provide $\\dot{Q}_{HP, max}$ and $1/COP$ depending on the outside air temperatue ($T_{OA}$). These approximations are based on regressions on data from the manufacturer's table. "
   ]
  },
  {
   "cell_type": "code",
   "execution_count": 5,
   "id": "600851a3-ab6d-4f25-91e5-d90e31c0f1c9",
   "metadata": {},
   "outputs": [],
   "source": [
    "B0_Q, B1_Q = -68851.589, 313.3151\n",
    "B0_C, B1_C = 2.695868, -0.008533\n",
    "\n",
    "def Q_HP_max(T_OA):\n",
    "    T_OA += 273\n",
    "    return round((B0_Q + B1_Q*T_OA)/1000,2) if T_OA<273-7 else 14\n",
    "    \n",
    "def COP1(T_OA):\n",
    "    T_OA += 273\n",
    "    return round(B0_C + B1_C*T_OA,2)"
   ]
  },
  {
   "cell_type": "markdown",
   "id": "d2f73a38-1efc-4644-800e-e5880d8e5ce6",
   "metadata": {},
   "source": [
    "Get the maximum heating power and 1/COP term for every hour in the forecast, based on outside air temperature."
   ]
  },
  {
   "cell_type": "code",
   "execution_count": 6,
   "id": "965fc27d-dad5-4d11-b81a-73ad8596c791",
   "metadata": {},
   "outputs": [],
   "source": [
    "# Q_HP_max forecast from T_OA [kWh_th]\n",
    "Q_HP_max_list = [Q_HP_max(temp) for temp in T_OA]\n",
    "Q_HP_min_list = [8 for x in Q_HP_max_list]\n",
    "\n",
    "# 1/COP forecast from T_OA\n",
    "COP1_list = [COP1(temp) for temp in T_OA]"
   ]
  },
  {
   "cell_type": "markdown",
   "id": "23c65bf1-2348-47c8-9234-716bace59fac",
   "metadata": {},
   "source": [
    "## 4 - Problem overview plot"
   ]
  },
  {
   "cell_type": "code",
   "execution_count": 7,
   "id": "f939f865-3686-4e10-8cb5-80c6d830b5cf",
   "metadata": {},
   "outputs": [
    {
     "data": {
      "image/png": "[encoded data removed]",
      "text/plain": [
       "<Figure size 936x360 with 2 Axes>"
      ]
     },
     "metadata": {
      "needs_background": "light"
     },
     "output_type": "display_data"
    }
   ],
   "source": [
    "# Duplicate the last element of the hourly data for the plot\n",
    "c_el2 = c_el + [c_el[-1]]\n",
    "load2 = load + [load[-1]]\n",
    "Q_min2 = Q_HP_min_list + [Q_HP_min_list[-1]]\n",
    "Q_max2 = Q_HP_max_list + [Q_HP_max_list[-1]]\n",
    "\n",
    "N = len(c_el)\n",
    "fig, ax = plt.subplots(1,1, figsize=(13,5))\n",
    "ax2 = ax.twinx()\n",
    "ax2.step(range(N+1), c_el2, where='post', color='gray', alpha=0.8, label='Electricity price')\n",
    "ax.step(range(N+1), load2, where='post', color='red', alpha=0.8, label='Load')\n",
    "ax.step(range(N+1), Q_min2, where='post', color='blue', alpha=0.6, label='Minimum Q_HP', linestyle='dotted')\n",
    "ax.step(range(N+1), Q_max2, where='post', color='blue', alpha=0.6, label='Maximum Q_HP', linestyle='dotted')\n",
    "ax.step(range(N+1), [max_storage]*(N+1), where='post', color='orange', alpha=0.8, label='Maximum storage', linestyle='dotted')\n",
    "ax.set_xticks(range(N+1))\n",
    "ax.set_xlabel(\"Time [hours]\")\n",
    "ax.set_ylabel(\"Load [kWh]\")\n",
    "ax2.set_ylabel(\"Price [cts/kWh]\")\n",
    "lines1, labels1 = ax.get_legend_handles_labels()\n",
    "lines2, labels2 = ax2.get_legend_handles_labels()\n",
    "ax.legend(lines2 + lines1, labels2 + labels1)\n",
    "plt.show()"
   ]
  },
  {
   "cell_type": "markdown",
   "id": "09cd3840-6e63-4e2a-8378-68ec91dd701b",
   "metadata": {},
   "source": [
    "## 5 - Optimization problem (MILP)"
   ]
  },
  {
   "cell_type": "markdown",
   "id": "1212c276-8f90-40c6-80a7-57da49e6a590",
   "metadata": {},
   "source": [
    "This function defines the MILP which will be used for MPC. Time *t* is discretized in hours, with a horizon of N hours (t=0,...,N).\n",
    "\n",
    "**Variables:**\n",
    "- The state variables (t=0,...,N):\n",
    "   - $storage(t)$: The energy in the storage (kWh)\n",
    "- The input variables (t=0,...,N-1):\n",
    "   -  $Q_{HP}(t)$: The heating power of the HP (kW, during one hour so also kWh)\n",
    "   -  $\\delta_{HP}(t)$: A binary variable that turns the HP on or off\n",
    "   -  $Q_{HP,onoff}(t)$: This variable replaces the bilinear $Q_{HP} \\cdot \\delta_{HP}$ terms, in order to linearize the equations. The constraints force $Q_{HP,onoff}$ = $Q_{HP} \\cdot \\delta_{HP}$ without using non linearities.\n",
    " \n",
    "**Constraints [LINEAR]:**\n",
    "- Initial storage level\n",
    "- Min/max storage, $Q_{HP}$, $\\delta_{HP}$\n",
    "- Constraints to replace the bilinear terms $Q_{HP} \\cdot \\delta_{HP}$ with a single variable\n",
    "- System dynamics:\n",
    "\n",
    "\\begin{equation}\n",
    "storage(t+1) = storage(t) + Q_{HP}(t) - load(t) \n",
    "\\end{equation}\n",
    "\n",
    "**Objective [LINEAR]:**\n",
    "\n",
    "Minimize cost of electricity during next N steps. Note that $COP(t)$ and $c_{el}(t)$ are parameters so the objective is linear with respect to the optimization variables.\n",
    "\n",
    "\\begin{equation}\n",
    "\\min \\sum_{t=0}^{N-1} \\frac{Q_{HP,onoff}(t)}{COP(t)} \\cdot c_{el}(t)\n",
    "\\end{equation}"
   ]
  },
  {
   "cell_type": "code",
   "execution_count": 8,
   "id": "2e7fdd09-1849-4154-8e8f-fc3505527fcb",
   "metadata": {},
   "outputs": [],
   "source": [
    "def get_opti(c_el, load, max_storage, storage_initial, Q_HP_min_list, Q_HP_max_list):\n",
    "\n",
    "    # Initialize    \n",
    "    opti = casadi.Opti('conic')\n",
    "\n",
    "    # -----------------------------\n",
    "    # Variables and solver\n",
    "    # -----------------------------\n",
    "    \n",
    "    storage = opti.variable(1,N+1)  # state\n",
    "    Q_HP = opti.variable(1,N)       # input\n",
    "    delta_HP = opti.variable(1,N)  # input\n",
    "    Q_HP_onoff = opti.variable(1,N) # input (derived)\n",
    "    \n",
    "    # delta_HP is a discrete variable (binary)\n",
    "    discrete_var = [0]*(N+1) + [0]*N + [1]*N + [0]*N\n",
    "\n",
    "    # Solver\n",
    "    opti.solver('gurobi', {'discrete':discrete_var, 'gurobi.OutputFlag':0})\n",
    "\n",
    "    # -----------------------------\n",
    "    # Constraints\n",
    "    # -----------------------------\n",
    "    \n",
    "    # Initial storage level\n",
    "    opti.subject_to(storage[0] == storage_initial)\n",
    "\n",
    "    # Constraints at every time step\n",
    "    for t in range(N+1):\n",
    "\n",
    "        # Bounds on storage\n",
    "        opti.subject_to(storage[t] >= 0)\n",
    "        opti.subject_to(storage[t] <= max_storage)\n",
    "\n",
    "        if t < N:\n",
    "            \n",
    "            # System dynamics\n",
    "            opti.subject_to(storage[t+1] == storage[t] + Q_HP_onoff[t] - load[t])\n",
    "    \n",
    "            # Bounds on delta_HP\n",
    "            opti.subject_to(delta_HP[t] >= 0)\n",
    "            opti.subject_to(delta_HP[t] <= 1)\n",
    "        \n",
    "            # Bounds on Q_HP\n",
    "            opti.subject_to(Q_HP[t] <= Q_HP_max_list[t])    \n",
    "            opti.subject_to(Q_HP[t] >= Q_HP_min_list[t]*delta_HP[t])\n",
    "        \n",
    "            # Bilinear to linear\n",
    "            opti.subject_to(Q_HP_onoff[t] <= Q_HP_max_list[t]*delta_HP[t])\n",
    "            opti.subject_to(Q_HP_onoff[t] >= Q_HP_min_list[t]*delta_HP[t])\n",
    "            opti.subject_to(Q_HP_onoff[t] <= Q_HP[t] + Q_HP_min_list[t]*(delta_HP[t]-1))\n",
    "            opti.subject_to(Q_HP_onoff[t] >= Q_HP[t] + Q_HP_max_list[t]*(delta_HP[t]-1))\n",
    "    \n",
    "    # -----------------------------\n",
    "    # Objective\n",
    "    # -----------------------------\n",
    "    \n",
    "    obj = sum(Q_HP_onoff[t]*c_el[t]*COP1_list[t] for t in range(N))\n",
    "    opti.minimize(obj)\n",
    "\n",
    "    # -----------------------------\n",
    "    # Solve and get optimal values\n",
    "    # -----------------------------\n",
    "    \n",
    "    sol = opti.solve()\n",
    "    Q_opt = sol.value(Q_HP_onoff)\n",
    "    stor_opt = sol.value(storage)\n",
    "    HP_on_off_opt = sol.value(delta_HP)\n",
    "    obj_opt = round(sol.value(obj)/100,2)\n",
    "\n",
    "    return Q_opt, stor_opt, HP_on_off_opt, obj_opt"
   ]
  },
  {
   "cell_type": "markdown",
   "id": "8fe55cc5-0fc7-4888-a995-7001f5da53c0",
   "metadata": {},
   "source": [
    "## 5 - Open-loop MPC, horizon 24 hours"
   ]
  },
  {
   "cell_type": "markdown",
   "id": "9eb71b41-fed8-434c-a7b0-c9c1990162fa",
   "metadata": {},
   "source": [
    "Single iteration of MPC, with a horizon of 24 hours."
   ]
  },
  {
   "cell_type": "code",
   "execution_count": 9,
   "id": "8133ebcf-366c-4482-a7d9-f9b4a0c341f7",
   "metadata": {},
   "outputs": [
    {
     "name": "stdout",
     "output_type": "stream",
     "text": [
      "Academic license - for non-commercial use only\n",
      "Academic license - for non-commercial use only\n"
     ]
    },
    {
     "data": {
      "image/png": "[encoded data removed]",
      "text/plain": [
       "<Figure size 936x360 with 2 Axes>"
      ]
     },
     "metadata": {
      "needs_background": "light"
     },
     "output_type": "display_data"
    }
   ],
   "source": [
    "# Horizon\n",
    "N = 24\n",
    "\n",
    "# Get the solution from the optimization problem\n",
    "storage_initial = 10\n",
    "Q_opt, stor_opt, HP_on_off_opt, obj_opt \\\n",
    "= get_opti(c_el, load, max_storage, storage_initial, Q_HP_min_list, Q_HP_max_list)\n",
    "\n",
    "# Duplicate the last element of the hourly data for the plot\n",
    "c_el2 = c_el + [c_el[-1]]\n",
    "Q_opt2 = [round(x,3) for x in Q_opt] + [Q_opt[-1]]\n",
    "load2 = load + [load[-1]]\n",
    "\n",
    "# Plot\n",
    "fig, ax = plt.subplots(1,1, figsize=(13,5))\n",
    "ax.step(range(N+1), Q_opt2, where='post', label='Heat pump', alpha=0.4, color='blue')\n",
    "ax.plot(range(N+1), stor_opt, label='Storage', alpha=0.6, color='orange')\n",
    "ax.step(range(N+1), load2, where='post', label='Load', alpha=0.4, color='red')\n",
    "ax.step(range(N+1), [max_storage]*(N+1), where='post', color='orange', alpha=0.8, label='Maximum storage', linestyle='dotted')\n",
    "ax.step(range(N+1), Q_max2, where='post', color='blue', alpha=0.6, label='Maximum Q_HP', linestyle='dotted')\n",
    "ax.fill_between(range(N+1), load2, step=\"post\", color='red', alpha=0.1)\n",
    "ax.fill_between(range(N+1), Q_opt2, step=\"post\", color='blue', alpha=0.1)\n",
    "ax.set_xticks(range(N+1))\n",
    "ax.set_xlabel(\"Time [hours]\")\n",
    "ax.set_ylabel(\"Energy [$kWh_{th}$]\")\n",
    "plt.title(f\"Cost: {obj_opt}$, Supplied: {round(sum(Q_opt2),1)} kWh_th\")\n",
    "ax2 = ax.twinx()\n",
    "ax2.set_ylabel(\"Price [cts/kWh]\")\n",
    "ax2.step(range(N+1), c_el2, where='post', label='Electricity price', color='black', alpha = 0.4)\n",
    "lines1, labels1 = ax.get_legend_handles_labels()\n",
    "lines2, labels2 = ax2.get_legend_handles_labels()\n",
    "ax.legend(lines2 + lines1, labels2 + labels1)\n",
    "plt.show()"
   ]
  },
  {
   "cell_type": "markdown",
   "id": "57988a11-7b72-4284-ae46-1cffaee600ca",
   "metadata": {},
   "source": [
    "The blue area is the heat supplied by the heat pump. The red area is the heating demand (the load). Clearly the system is able to decouple the times at which the heat is supplied and the ones at which the heat is demanded, turning on the heat pump during the cheapest hours of the day and discharging the storage during the most expensive ones."
   ]
  },
  {
   "cell_type": "markdown",
   "id": "6edb1f14-2773-4990-947d-fdb34e0e9d0a",
   "metadata": {},
   "source": [
    "## 5 - Closed-loop MPC, horizon 24 hours"
   ]
  },
  {
   "cell_type": "markdown",
   "id": "95320c4f-19a6-49c9-aa9b-8cb64c3d8cb9",
   "metadata": {},
   "source": [
    "Iterating on the previous method every time step (hour) gives closed-loop MPC. Here we choose a horizon of 24 hours for each iteration again, but this number could be anything."
   ]
  },
  {
   "cell_type": "code",
   "execution_count": 10,
   "id": "78ea7aa7-eb03-4a82-a2d9-1076e8a731f5",
   "metadata": {},
   "outputs": [
    {
     "name": "stdout",
     "output_type": "stream",
     "text": [
      "Academic license - for non-commercial use only\n",
      "Academic license - for non-commercial use only\n",
      "Academic license - for non-commercial use only\n",
      "Academic license - for non-commercial use only\n",
      "Academic license - for non-commercial use only\n",
      "Academic license - for non-commercial use only\n",
      "Academic license - for non-commercial use only\n",
      "Academic license - for non-commercial use only\n",
      "Academic license - for non-commercial use only\n",
      "Academic license - for non-commercial use only\n",
      "Academic license - for non-commercial use only\n",
      "Academic license - for non-commercial use only\n",
      "Academic license - for non-commercial use only\n",
      "Academic license - for non-commercial use only\n",
      "Academic license - for non-commercial use only\n",
      "Academic license - for non-commercial use only\n",
      "Academic license - for non-commercial use only\n",
      "Academic license - for non-commercial use only\n",
      "Academic license - for non-commercial use only\n",
      "Academic license - for non-commercial use only\n",
      "Academic license - for non-commercial use only\n",
      "Academic license - for non-commercial use only\n",
      "Academic license - for non-commercial use only\n",
      "Academic license - for non-commercial use only\n",
      "Academic license - for non-commercial use only\n",
      "Academic license - for non-commercial use only\n",
      "Academic license - for non-commercial use only\n",
      "Academic license - for non-commercial use only\n",
      "Academic license - for non-commercial use only\n",
      "Academic license - for non-commercial use only\n",
      "Academic license - for non-commercial use only\n",
      "Academic license - for non-commercial use only\n",
      "Academic license - for non-commercial use only\n",
      "Academic license - for non-commercial use only\n",
      "Academic license - for non-commercial use only\n",
      "Academic license - for non-commercial use only\n",
      "Academic license - for non-commercial use only\n",
      "Academic license - for non-commercial use only\n",
      "Academic license - for non-commercial use only\n",
      "Academic license - for non-commercial use only\n",
      "Academic license - for non-commercial use only\n",
      "Academic license - for non-commercial use only\n",
      "Academic license - for non-commercial use only\n",
      "Academic license - for non-commercial use only\n",
      "Academic license - for non-commercial use only\n",
      "Academic license - for non-commercial use only\n",
      "Academic license - for non-commercial use only\n",
      "Academic license - for non-commercial use only\n"
     ]
    },
    {
     "data": {
      "image/png": "[encoded data removed]",
      "text/plain": [
       "<Figure size 936x360 with 2 Axes>"
      ]
     },
     "metadata": {
      "needs_background": "light"
     },
     "output_type": "display_data"
    }
   ],
   "source": [
    "# Horizon (hours)\n",
    "N = 24\n",
    "\n",
    "# 24 hour simulation\n",
    "num_iterations = 24\n",
    "\n",
    "# Duplicate forecasts to allow for longer simulations\n",
    "c_el = c_el*20\n",
    "load = load*20\n",
    "Q_HP_max_list = Q_HP_max_list*20\n",
    "Q_HP_min_list = Q_HP_min_list*20\n",
    "COP1_list = COP1_list*20\n",
    "\n",
    "initial_storage = 10\n",
    "Q_opt_overall, stor_opt_overall = [], []\n",
    "cost_total = 0\n",
    "\n",
    "# Add the receiding horizon, 8 hour horizon\n",
    "for iter in range(num_iterations):\n",
    "\n",
    "    # Update forecasts for new interation\n",
    "    c_el_current = c_el[iter:iter+N]\n",
    "    load_current = load[iter:iter+N]\n",
    "    Q_HP_min_list_current = Q_HP_min_list[iter:iter+N]\n",
    "    Q_HP_max_list_current = Q_HP_max_list[iter:iter+N]\n",
    "\n",
    "    # Get optimal solution for next N steps\n",
    "    Q_opt, stor_opt, HP_on_off_opt, obj_opt = \\\n",
    "    get_opti(c_el_current, load_current, max_storage, initial_storage, Q_HP_min_list_current, Q_HP_max_list_current)\n",
    "\n",
    "    # Next state of the system\n",
    "    initial_storage = stor_opt[1]\n",
    "\n",
    "    # Apprend what you did in this hour\n",
    "    Q_opt_overall.append(Q_opt[0])\n",
    "    stor_opt_overall.append(stor_opt[0])\n",
    "    cost_total += (Q_opt[0] * c_el_current[0])*COP1(T_OA[iter])/100\n",
    "    #print(HP_on_off_opt)\n",
    "    \n",
    "    # Duplicate the last element of the hourly data for the plot\n",
    "    c_el2 = c_el_current + [c_el_current[-1]]\n",
    "    Q_opt2 = [round(x,3) for x in Q_opt] + [Q_opt[-1]]\n",
    "    load2 = load_current + [load_current[-1]]\n",
    "    \n",
    "    # To plot each iteration (open loop results)\n",
    "    plot_each_iteration = False\n",
    "    if plot_each_iteration:\n",
    "        fig, ax = plt.subplots(1,1, figsize=(13,5))\n",
    "        ax.step(range(N+1), Q_opt2, where='post', label='Heat pump', alpha=0.4, color='blue')\n",
    "        ax.plot(range(N+1), stor_opt, label='Storage', alpha=0.6, color='orange')\n",
    "        ax.step(range(N+1), load2, where='post', label='Load', alpha=0.4, color='red')\n",
    "        ax.set_xticks(range(N+1))\n",
    "        ax.set_xlabel(\"Time [hours]\")\n",
    "        ax.set_ylabel(\"Energy [$kWh_{th}$]\")\n",
    "        plt.title(f\"Cost: {obj_opt}$, Supplied: {round(sum(load),1)} kWh_th \\n=> {round(100*obj_opt/sum(load),2)} cts/kWh_th\")\n",
    "        ax2 = ax.twinx()\n",
    "        ax2.set_ylabel(\"Price [cts/kWh]\")\n",
    "        ax2.step(range(N+1), c_el2, where='post', label='Electricity price', color='black', alpha = 0.4)\n",
    "        lines1, labels1 = ax.get_legend_handles_labels()\n",
    "        lines2, labels2 = ax2.get_legend_handles_labels()\n",
    "        ax.legend(lines2 + lines1, labels2 + labels1)\n",
    "        plt.show()\n",
    "\n",
    "# Plot closed-loop result\n",
    "fig, ax = plt.subplots(1,1, figsize=(13,5))\n",
    "ax.step(range(num_iterations), Q_opt_overall, where='post', label='Heat pump', alpha=0.4, color='blue')\n",
    "ax.step(range(num_iterations), load[:num_iterations], where='post', label='Load', alpha=0.4, color='red')\n",
    "ax.plot(range(num_iterations), stor_opt_overall, label='Storage', alpha=0.6, color='orange')\n",
    "ax.step(range(num_iterations), Q_max2[:num_iterations], where='post', color='blue', alpha=0.6, label='Maximum Q_HP', linestyle='dotted')\n",
    "ax.step(range(num_iterations), [max_storage]*(num_iterations), where='post', color='orange', alpha=0.8, label='Maximum storage', linestyle='dotted')\n",
    "ax.fill_between(range(num_iterations), load[:num_iterations], step=\"post\", color='red', alpha=0.1)\n",
    "ax.fill_between(range(num_iterations), Q_opt_overall, step=\"post\", color='blue', alpha=0.1)\n",
    "ax.set_xticks(range(num_iterations))\n",
    "ax.set_xlabel(\"Time [hours]\")\n",
    "ax.set_ylabel(\"Energy [$kWh_{th}$]\")\n",
    "ax2 = ax.twinx()\n",
    "ax2.set_ylabel(\"Price [cts/kWh]\")\n",
    "ax2.step(range(num_iterations), c_el[:num_iterations], where='post', label='Electricity price', color='black', alpha = 0.4)\n",
    "lines1, labels1 = ax.get_legend_handles_labels()\n",
    "lines2, labels2 = ax2.get_legend_handles_labels()\n",
    "ax.legend(lines2 + lines1, labels2 + labels1)\n",
    "plt.title(f\"Cost: {round(cost_total,1)}$, Supplied: {round(sum(Q_opt_overall),1)} kWh_th\")\n",
    "plt.show()"
   ]
  },
  {
   "cell_type": "markdown",
   "id": "fe71db6b-0ddf-4abf-aad1-88704b9cac60",
   "metadata": {},
   "source": [
    "The reason why the storage is not empty at the end of the 24-hour simulation is not because the solution is suboptimal, but because the system is anticipating the hours to come after the 24 hours."
   ]
  },
  {
   "cell_type": "code",
   "execution_count": null,
   "id": "36b29c3e-572b-424c-9ce3-c7466c07e71a",
   "metadata": {},
   "outputs": [],
   "source": []
  },
  {
   "cell_type": "code",
   "execution_count": null,
   "id": "6b1d5055-49fa-440d-b3be-66ad6beaf1f6",
   "metadata": {},
   "outputs": [],
   "source": []
  }
 ],
 "metadata": {
  "kernelspec": {
   "display_name": "Python 3 (ipykernel)",
   "language": "python",
   "name": "python3"
  },
  "language_info": {
   "codemirror_mode": {
    "name": "ipython",
    "version": 3
   },
   "file_extension": ".py",
   "mimetype": "text/x-python",
   "name": "python",
   "nbconvert_exporter": "python",
   "pygments_lexer": "ipython3",
   "version": "3.8.11"
  }
 },
 "nbformat": 4,
 "nbformat_minor": 5
}
