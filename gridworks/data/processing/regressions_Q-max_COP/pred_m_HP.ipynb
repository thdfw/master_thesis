{
 "cells": [
  {
   "cell_type": "code",
   "execution_count": 1,
   "id": "6703c651-7b72-427c-9245-cf9150297c87",
   "metadata": {},
   "outputs": [
    {
     "data": {
      "text/html": [
       "<div>\n",
       "<style scoped>\n",
       "    .dataframe tbody tr th:only-of-type {\n",
       "        vertical-align: middle;\n",
       "    }\n",
       "\n",
       "    .dataframe tbody tr th {\n",
       "        vertical-align: top;\n",
       "    }\n",
       "\n",
       "    .dataframe thead th {\n",
       "        text-align: right;\n",
       "    }\n",
       "</style>\n",
       "<table border=\"1\" class=\"dataframe\">\n",
       "  <thead>\n",
       "    <tr style=\"text-align: right;\">\n",
       "      <th></th>\n",
       "      <th>T_OA</th>\n",
       "      <th>T_sup_HP</th>\n",
       "      <th>COP_real</th>\n",
       "      <th>Q_HP_real</th>\n",
       "      <th>W_HP</th>\n",
       "      <th>m_HP</th>\n",
       "    </tr>\n",
       "  </thead>\n",
       "  <tbody>\n",
       "    <tr>\n",
       "      <th>0</th>\n",
       "      <td>248</td>\n",
       "      <td>303</td>\n",
       "      <td>2.08</td>\n",
       "      <td>9.25</td>\n",
       "      <td>4.45</td>\n",
       "      <td>0.67</td>\n",
       "    </tr>\n",
       "    <tr>\n",
       "      <th>1</th>\n",
       "      <td>253</td>\n",
       "      <td>303</td>\n",
       "      <td>2.26</td>\n",
       "      <td>10.63</td>\n",
       "      <td>4.70</td>\n",
       "      <td>0.67</td>\n",
       "    </tr>\n",
       "    <tr>\n",
       "      <th>2</th>\n",
       "      <td>258</td>\n",
       "      <td>303</td>\n",
       "      <td>2.45</td>\n",
       "      <td>12.00</td>\n",
       "      <td>4.90</td>\n",
       "      <td>0.67</td>\n",
       "    </tr>\n",
       "    <tr>\n",
       "      <th>3</th>\n",
       "      <td>266</td>\n",
       "      <td>303</td>\n",
       "      <td>3.12</td>\n",
       "      <td>14.00</td>\n",
       "      <td>4.49</td>\n",
       "      <td>0.67</td>\n",
       "    </tr>\n",
       "    <tr>\n",
       "      <th>4</th>\n",
       "      <td>269</td>\n",
       "      <td>303</td>\n",
       "      <td>3.30</td>\n",
       "      <td>14.00</td>\n",
       "      <td>4.24</td>\n",
       "      <td>0.67</td>\n",
       "    </tr>\n",
       "    <tr>\n",
       "      <th>...</th>\n",
       "      <td>...</td>\n",
       "      <td>...</td>\n",
       "      <td>...</td>\n",
       "      <td>...</td>\n",
       "      <td>...</td>\n",
       "      <td>...</td>\n",
       "    </tr>\n",
       "    <tr>\n",
       "      <th>91</th>\n",
       "      <td>280</td>\n",
       "      <td>338</td>\n",
       "      <td>2.50</td>\n",
       "      <td>14.00</td>\n",
       "      <td>5.60</td>\n",
       "      <td>0.34</td>\n",
       "    </tr>\n",
       "    <tr>\n",
       "      <th>92</th>\n",
       "      <td>283</td>\n",
       "      <td>338</td>\n",
       "      <td>2.65</td>\n",
       "      <td>14.00</td>\n",
       "      <td>5.28</td>\n",
       "      <td>0.34</td>\n",
       "    </tr>\n",
       "    <tr>\n",
       "      <th>93</th>\n",
       "      <td>288</td>\n",
       "      <td>338</td>\n",
       "      <td>2.90</td>\n",
       "      <td>14.00</td>\n",
       "      <td>4.83</td>\n",
       "      <td>0.34</td>\n",
       "    </tr>\n",
       "    <tr>\n",
       "      <th>94</th>\n",
       "      <td>291</td>\n",
       "      <td>338</td>\n",
       "      <td>3.05</td>\n",
       "      <td>14.00</td>\n",
       "      <td>4.59</td>\n",
       "      <td>0.34</td>\n",
       "    </tr>\n",
       "    <tr>\n",
       "      <th>95</th>\n",
       "      <td>293</td>\n",
       "      <td>338</td>\n",
       "      <td>3.15</td>\n",
       "      <td>14.00</td>\n",
       "      <td>4.44</td>\n",
       "      <td>0.34</td>\n",
       "    </tr>\n",
       "  </tbody>\n",
       "</table>\n",
       "<p>96 rows × 6 columns</p>\n",
       "</div>"
      ],
      "text/plain": [
       "    T_OA  T_sup_HP  COP_real  Q_HP_real  W_HP  m_HP\n",
       "0    248       303      2.08       9.25  4.45  0.67\n",
       "1    253       303      2.26      10.63  4.70  0.67\n",
       "2    258       303      2.45      12.00  4.90  0.67\n",
       "3    266       303      3.12      14.00  4.49  0.67\n",
       "4    269       303      3.30      14.00  4.24  0.67\n",
       "..   ...       ...       ...        ...   ...   ...\n",
       "91   280       338      2.50      14.00  5.60  0.34\n",
       "92   283       338      2.65      14.00  5.28  0.34\n",
       "93   288       338      2.90      14.00  4.83  0.34\n",
       "94   291       338      3.05      14.00  4.59  0.34\n",
       "95   293       338      3.15      14.00  4.44  0.34\n",
       "\n",
       "[96 rows x 6 columns]"
      ]
     },
     "execution_count": 1,
     "metadata": {},
     "output_type": "execute_result"
    }
   ],
   "source": [
    "import pandas as pd\n",
    "import numpy as np\n",
    "import statsmodels.formula.api as smf\n",
    "import matplotlib.pyplot as plt\n",
    "\n",
    "df = pd.read_csv('COP_data_final.csv', sep=';', decimal=',')\n",
    "\n",
    "df['T_sup_HP'] = df['T_sup_HP'] + 273\n",
    "df['T_OA'] = df['T_OA'] + 273\n",
    "\n",
    "# Get the position of NaN values and remove the rows\n",
    "df = df.replace('NaN', np.nan)\n",
    "NaN_index = []#np.where(df['COP_real'].isna())[0]\n",
    "#df = df.dropna().reset_index()\n",
    "df_regression = df\n",
    "\n",
    "df"
   ]
  },
  {
   "cell_type": "markdown",
   "id": "36d70389-2f2e-40cf-997f-c9fff6d3d100",
   "metadata": {},
   "source": [
    "# Predicting COP with a linear model"
   ]
  },
  {
   "cell_type": "code",
   "execution_count": 2,
   "id": "2cd60330-f2e4-4a1e-b659-d98c22ae531b",
   "metadata": {},
   "outputs": [
    {
     "name": "stdout",
     "output_type": "stream",
     "text": [
      "                            OLS Regression Results                            \n",
      "==============================================================================\n",
      "Dep. Variable:                   m_HP   R-squared:                       0.837\n",
      "Model:                            OLS   Adj. R-squared:                  0.835\n",
      "Method:                 Least Squares   F-statistic:                     482.5\n",
      "Date:                Fri, 03 Nov 2023   Prob (F-statistic):           8.53e-39\n",
      "Time:                        00:32:29   Log-Likelihood:                 134.43\n",
      "No. Observations:                  96   AIC:                            -264.9\n",
      "Df Residuals:                      94   BIC:                            -259.7\n",
      "Df Model:                           1                                         \n",
      "Covariance Type:            nonrobust                                         \n",
      "==============================================================================\n",
      "                 coef    std err          t      P>|t|      [0.025      0.975]\n",
      "------------------------------------------------------------------------------\n",
      "Intercept      4.2831      0.171     25.019      0.000       3.943       4.623\n",
      "T_sup_HP      -0.0117      0.001    -21.966      0.000      -0.013      -0.011\n",
      "==============================================================================\n",
      "Omnibus:                        8.426   Durbin-Watson:                   0.159\n",
      "Prob(Omnibus):                  0.015   Jarque-Bera (JB):                7.770\n",
      "Skew:                           0.626   Prob(JB):                       0.0206\n",
      "Kurtosis:                       2.386   Cond. No.                     8.92e+03\n",
      "==============================================================================\n",
      "\n",
      "Notes:\n",
      "[1] Standard Errors assume that the covariance matrix of the errors is correctly specified.\n",
      "[2] The condition number is large, 8.92e+03. This might indicate that there are\n",
      "strong multicollinearity or other numerical problems.\n"
     ]
    }
   ],
   "source": [
    "# Declare the model\n",
    "mod = smf.ols(formula='m_HP ~ T_sup_HP', data=df_regression)\n",
    "\n",
    "# Fit the model (finds the optimal coefficients, adding a random seed ensures consistency)\n",
    "np.random.seed(2) \n",
    "res = mod.fit()\n",
    "\n",
    "# Print the summary output\n",
    "print(res.summary())"
   ]
  },
  {
   "cell_type": "code",
   "execution_count": 3,
   "id": "6b693cb3-cfc4-40cc-9a66-cb93d476dd38",
   "metadata": {},
   "outputs": [
    {
     "name": "stdout",
     "output_type": "stream",
     "text": [
      "MSE = 0.004\n",
      "sqrt(MSE) = 0.062\n",
      "\n",
      "Intercept: 4.2831\n",
      "T_sup_HP coeff: -0.0117\n"
     ]
    }
   ],
   "source": [
    "def cop(supT):\n",
    "    return res.params.Intercept + res.params.T_sup_HP*supT\n",
    "\n",
    "# Get all the predicted COPs in a list\n",
    "COP_list = []\n",
    "for i in range(len(df['T_OA'])):\n",
    "    COP_list.append(round(cop(df['T_sup_HP'][i]),2))\n",
    "\n",
    "# Get a list of all the real COPs\n",
    "COP_list_real = list(df.m_HP)\n",
    "\n",
    "# Compare with the real COPs\n",
    "from sklearn.metrics import mean_squared_error\n",
    "mse = mean_squared_error(COP_list_real, COP_list)\n",
    "print(\"MSE = {}\".format(round(mse,3)))\n",
    "print(\"sqrt(MSE) = {}\".format(round(np.sqrt(mse),3)))\n",
    "\n",
    "print(\"\\nIntercept: {}\".format(round(res.params.Intercept,4)))\n",
    "print(\"T_sup_HP coeff: {}\".format(round(res.params.T_sup_HP,4)))"
   ]
  },
  {
   "cell_type": "code",
   "execution_count": 4,
   "id": "a4af81b5-a483-4feb-ad86-bbf395020b85",
   "metadata": {},
   "outputs": [
    {
     "data": {
      "text/plain": [
       "0.31915459874589125"
      ]
     },
     "execution_count": 4,
     "metadata": {},
     "output_type": "execute_result"
    }
   ],
   "source": [
    "cop(65+273)"
   ]
  },
  {
   "cell_type": "code",
   "execution_count": 7,
   "id": "cbe6bcff-67e9-44eb-a234-63fc9aab11fb",
   "metadata": {},
   "outputs": [
    {
     "name": "stderr",
     "output_type": "stream",
     "text": [
      "/Users/thomasdefauw/miniconda3/envs/ada/lib/python3.8/site-packages/pandas/core/indexing.py:1732: SettingWithCopyWarning: \n",
      "A value is trying to be set on a copy of a slice from a DataFrame\n",
      "\n",
      "See the caveats in the documentation: https://pandas.pydata.org/pandas-docs/stable/user_guide/indexing.html#returning-a-view-versus-a-copy\n",
      "  self._setitem_single_block(indexer, value, name)\n"
     ]
    }
   ],
   "source": [
    "df = pd.read_csv('COP_data_final.csv', sep=';', decimal=',')\n",
    "df['COP_pred'] = 0\n",
    "df['T_OA'] = df['T_OA'] + 273\n",
    "\n",
    "j = 0\n",
    "for i in range(len(df.COP_real)):    \n",
    "    if i in NaN_index:\n",
    "        df['COP_pred'].iloc[i] = np.nan\n",
    "    else:\n",
    "        df['COP_pred'].iloc[i] = COP_list[j]\n",
    "        j = j+1\n",
    "        \n",
    "df = df.fillna(0)"
   ]
  },
  {
   "cell_type": "code",
   "execution_count": 10,
   "id": "8b12a9e3-db82-4ed6-b025-d16f15f6c849",
   "metadata": {},
   "outputs": [
    {
     "data": {
      "image/png": "[encoded data removed]",
      "text/plain": [
       "<Figure size 432x288 with 1 Axes>"
      ]
     },
     "metadata": {
      "needs_background": "light"
     },
     "output_type": "display_data"
    }
   ],
   "source": [
    " # Creating a 2x4 (2 height, 4 width) grid of plots\n",
    "\n",
    "        \n",
    "# Plot the real and predicted 1/COP curves\n",
    "plt.plot(df.T_sup_HP, df.m_HP, label=\"m_HP real\")\n",
    "plt.scatter(df.T_sup_HP, df.COP_pred, label=\"m_HP predicted\", color='orange')\n",
    "plt.legend()\n",
    "plt.xlabel(\"T_sup_HP [°C]\")\n",
    "plt.ylabel(\"m_HP [kg/s]\")\n",
    "plt.ylim(0.2,0.8)        \n",
    "\n",
    "plt.savefig('/Users/thomasdefauw/Desktop/regression_m_HP.jpg', dpi=200)\n",
    "plt.show()\n"
   ]
  },
  {
   "cell_type": "code",
   "execution_count": null,
   "id": "eb1a2a68-b222-4797-bd4c-139065071ec0",
   "metadata": {},
   "outputs": [],
   "source": []
  },
  {
   "cell_type": "code",
   "execution_count": null,
   "id": "b4462ceb-b250-4495-80cc-bdc35f62d5ef",
   "metadata": {},
   "outputs": [],
   "source": []
  },
  {
   "cell_type": "code",
   "execution_count": null,
   "id": "8c731e70-f699-4e95-9aa1-e9e2b23011ef",
   "metadata": {},
   "outputs": [],
   "source": []
  }
 ],
 "metadata": {
  "kernelspec": {
   "display_name": "Python 3 (ipykernel)",
   "language": "python",
   "name": "python3"
  },
  "language_info": {
   "codemirror_mode": {
    "name": "ipython",
    "version": 3
   },
   "file_extension": ".py",
   "mimetype": "text/x-python",
   "name": "python",
   "nbconvert_exporter": "python",
   "pygments_lexer": "ipython3",
   "version": "3.8.11"
  }
 },
 "nbformat": 4,
 "nbformat_minor": 5
}
