{
 "cells": [
  {
   "cell_type": "code",
   "execution_count": null,
   "id": "6703c651-7b72-427c-9245-cf9150297c87",
   "metadata": {},
   "outputs": [
    {
     "data": {
      "text/html": [
       "<div>\n",
       "<style scoped>\n",
       "    .dataframe tbody tr th:only-of-type {\n",
       "        vertical-align: middle;\n",
       "    }\n",
       "\n",
       "    .dataframe tbody tr th {\n",
       "        vertical-align: top;\n",
       "    }\n",
       "\n",
       "    .dataframe thead th {\n",
       "        text-align: right;\n",
       "    }\n",
       "</style>\n",
       "<table border=\"1\" class=\"dataframe\">\n",
       "  <thead>\n",
       "    <tr style=\"text-align: right;\">\n",
       "      <th></th>\n",
       "      <th>T_OA</th>\n",
       "      <th>T_sup_HP</th>\n",
       "      <th>COP_real</th>\n",
       "    </tr>\n",
       "  </thead>\n",
       "  <tbody>\n",
       "    <tr>\n",
       "      <th>0</th>\n",
       "      <td>248</td>\n",
       "      <td>303</td>\n",
       "      <td>2.08</td>\n",
       "    </tr>\n",
       "    <tr>\n",
       "      <th>1</th>\n",
       "      <td>253</td>\n",
       "      <td>303</td>\n",
       "      <td>2.26</td>\n",
       "    </tr>\n",
       "    <tr>\n",
       "      <th>2</th>\n",
       "      <td>258</td>\n",
       "      <td>303</td>\n",
       "      <td>2.45</td>\n",
       "    </tr>\n",
       "    <tr>\n",
       "      <th>3</th>\n",
       "      <td>263</td>\n",
       "      <td>303</td>\n",
       "      <td>3.12</td>\n",
       "    </tr>\n",
       "    <tr>\n",
       "      <th>4</th>\n",
       "      <td>268</td>\n",
       "      <td>303</td>\n",
       "      <td>3.30</td>\n",
       "    </tr>\n",
       "  </tbody>\n",
       "</table>\n",
       "</div>"
      ],
      "text/plain": [
       "   T_OA  T_sup_HP  COP_real\n",
       "0   248       303      2.08\n",
       "1   253       303      2.26\n",
       "2   258       303      2.45\n",
       "3   263       303      3.12\n",
       "4   268       303      3.30"
      ]
     },
     "execution_count": 10,
     "metadata": {},
     "output_type": "execute_result"
    }
   ],
   "source": [
    "import pandas as pd\n",
    "import numpy as np\n",
    "import statsmodels.formula.api as smf\n",
    "\n",
    "df = pd.read_csv('cop_data.csv', sep=';', decimal=',')\n",
    "df['M_HP'] = round(df['M_HP'] / 60,2)\n",
    "df['LWT'] = df['LWT'] + 273\n",
    "df['T_OA'] = df['T_OA'] + 273\n",
    "df"
   ]
  },
  {
   "cell_type": "markdown",
   "id": "36d70389-2f2e-40cf-997f-c9fff6d3d100",
   "metadata": {},
   "source": [
    "# Predicting COP with a linear model"
   ]
  },
  {
   "cell_type": "code",
   "execution_count": 2,
   "id": "2cd60330-f2e4-4a1e-b659-d98c22ae531b",
   "metadata": {},
   "outputs": [
    {
     "name": "stdout",
     "output_type": "stream",
     "text": [
      "                            OLS Regression Results                            \n",
      "==============================================================================\n",
      "Dep. Variable:                    COP   R-squared:                       0.958\n",
      "Model:                            OLS   Adj. R-squared:                  0.956\n",
      "Method:                 Least Squares   F-statistic:                     560.7\n",
      "Date:                Sun, 22 Oct 2023   Prob (F-statistic):           8.81e-51\n",
      "Time:                        20:23:38   Log-Likelihood:                -25.795\n",
      "No. Observations:                  78   AIC:                             59.59\n",
      "Df Residuals:                      74   BIC:                             69.02\n",
      "Df Model:                           3                                         \n",
      "Covariance Type:            nonrobust                                         \n",
      "==============================================================================\n",
      "                 coef    std err          t      P>|t|      [0.025      0.975]\n",
      "------------------------------------------------------------------------------\n",
      "Intercept     -0.7789      2.945     -0.264      0.792      -6.647       5.089\n",
      "M_HP          -0.0726      0.511     -0.142      0.887      -1.091       0.945\n",
      "LWT           -0.0658      0.008     -8.041      0.000      -0.082      -0.049\n",
      "T_OA           0.0911      0.002     38.501      0.000       0.086       0.096\n",
      "==============================================================================\n",
      "Omnibus:                        0.720   Durbin-Watson:                   0.617\n",
      "Prob(Omnibus):                  0.698   Jarque-Bera (JB):                0.566\n",
      "Skew:                           0.208   Prob(JB):                        0.754\n",
      "Kurtosis:                       2.961   Cond. No.                     3.19e+04\n",
      "==============================================================================\n",
      "\n",
      "Notes:\n",
      "[1] Standard Errors assume that the covariance matrix of the errors is correctly specified.\n",
      "[2] The condition number is large, 3.19e+04. This might indicate that there are\n",
      "strong multicollinearity or other numerical problems.\n"
     ]
    }
   ],
   "source": [
    "# Declare the model\n",
    "mod = smf.ols(formula='COP ~ M_HP + LWT + T_OA', data=df)\n",
    "\n",
    "# Fit the model (finds the optimal coefficients, adding a random seed ensures consistency)\n",
    "np.random.seed(2) \n",
    "res = mod.fit()\n",
    "\n",
    "# Print the summary output\n",
    "print(res.summary())"
   ]
  },
  {
   "cell_type": "code",
   "execution_count": 3,
   "id": "6b693cb3-cfc4-40cc-9a66-cb93d476dd38",
   "metadata": {},
   "outputs": [
    {
     "name": "stdout",
     "output_type": "stream",
     "text": [
      "MSE = 0.113\n",
      "sqrt(MSE) = 0.336\n"
     ]
    }
   ],
   "source": [
    "def cop(massf, supT, outT):\n",
    "    return res.params.Intercept + res.params.M_HP*massf + res.params.LWT*supT + res.params.T_OA*outT\n",
    "\n",
    "# Get all the predicted COPs in a list\n",
    "COP_list = []\n",
    "for i in range(len(df['T_OA'])):\n",
    "    COP_list.append(round(cop(df['M_HP'][i],df['LWT'][i],df['T_OA'][i]),2))\n",
    "\n",
    "# Get a list of all the real COPs\n",
    "COP_list_real = list(df.COP)\n",
    "\n",
    "# Compare with the real COPs\n",
    "from sklearn.metrics import mean_squared_error\n",
    "mse = mean_squared_error(COP_list_real, COP_list)\n",
    "print(\"MSE = {}\".format(round(mse,3)))\n",
    "print(\"sqrt(MSE) = {}\".format(round(np.sqrt(mse),3)))\n",
    "\n",
    "# This is just for printing for excel\n",
    "# COP_list = [str(x).replace(\".\",\",\") for x in COP_list]\n",
    "# for i in range(len(df['T_OA'])):\n",
    "#    print(COP_list[i])"
   ]
  },
  {
   "cell_type": "code",
   "execution_count": 4,
   "id": "838f708b-c5b0-4e4c-a22d-d3e57b81e677",
   "metadata": {},
   "outputs": [
    {
     "name": "stdout",
     "output_type": "stream",
     "text": [
      "Intercept: -0.7789\n",
      "M_HP coeff: -0.0726\n",
      "LWT coeff: -0.0658\n",
      "T_OA coeff: 0.0911\n"
     ]
    }
   ],
   "source": [
    "print(\"Intercept: {}\".format(round(res.params.Intercept,4)))\n",
    "print(\"M_HP coeff: {}\".format(round(res.params.M_HP,4)))\n",
    "print(\"LWT coeff: {}\".format(round(res.params.LWT,4)))\n",
    "print(\"T_OA coeff: {}\".format(round(res.params.T_OA,4)))"
   ]
  },
  {
   "cell_type": "code",
   "execution_count": 5,
   "id": "d0a57833-9c76-45e7-8377-993d080eed48",
   "metadata": {},
   "outputs": [
    {
     "name": "stdout",
     "output_type": "stream",
     "text": [
      "7.137510880573103\n"
     ]
    }
   ],
   "source": [
    "print(cop(0.76, 284.81, 293))"
   ]
  },
  {
   "cell_type": "markdown",
   "id": "2cc66460-e646-48c8-98e5-81ecd49ac54d",
   "metadata": {},
   "source": [
    "# Predicting COP with a quadratic model"
   ]
  },
  {
   "cell_type": "code",
   "execution_count": 6,
   "id": "3871108a-ebd0-49c7-8026-45ae9851094e",
   "metadata": {},
   "outputs": [],
   "source": [
    "# Declare the model\n",
    "mod = smf.ols(formula='COP ~ M_HP + LWT + T_OA + I(M_HP**2) + I(LWT**2) + I(T_OA**2)', data=df)\n",
    "\n",
    "# Fit the model (finds the optimal coefficients, adding a random seed ensures consistency)\n",
    "np.random.seed(2) \n",
    "res = mod.fit()\n",
    "\n",
    "# Print the summary output\n",
    "# print(res.summary())"
   ]
  },
  {
   "cell_type": "code",
   "execution_count": 7,
   "id": "6e54edc1-8a9e-41fa-b907-dc8feea43471",
   "metadata": {},
   "outputs": [
    {
     "name": "stdout",
     "output_type": "stream",
     "text": [
      "MSE = 0.088\n",
      "sqrt(MSE) = 0.297\n"
     ]
    }
   ],
   "source": [
    "def cop(massf, supT, outT):\n",
    "    return res.params.Intercept + res.params.M_HP*massf + res.params.LWT*supT \\\n",
    "    + res.params.T_OA*outT \\\n",
    "    + res.params['I(M_HP ** 2)']*(massf**2) \\\n",
    "    + res.params['I(LWT ** 2)']*(supT**2) \\\n",
    "    + res.params['I(T_OA ** 2)']*(outT**2)\n",
    "\n",
    "# Get all the predicted COPs in a list\n",
    "COP_list = []\n",
    "for i in range(len(df['T_OA'])):\n",
    "    COP_list.append(round(cop(df['M_HP'][i],df['LWT'][i],df['T_OA'][i]),2))\n",
    "    \n",
    "# Get a list of all the real COPs\n",
    "COP_list_real = list(df.COP)\n",
    "\n",
    "# Compare with the real COPs\n",
    "from sklearn.metrics import mean_squared_error\n",
    "mse = mean_squared_error(COP_list_real, COP_list)\n",
    "print(\"MSE = {}\".format(round(mse,3)))\n",
    "print(\"sqrt(MSE) = {}\".format(round(np.sqrt(mse),3)))\n",
    "\n",
    "# This is just for printing for excel\n",
    "\n",
    "#COP_list = [str(x).replace(\".\",\",\") for x in COP_list]\n",
    "#for i in range(len(df['T_OA'])):\n",
    "#    print(COP_list[i])"
   ]
  },
  {
   "cell_type": "code",
   "execution_count": 8,
   "id": "abb0677e-2da9-46bf-8808-a5b2e8bb4cbe",
   "metadata": {},
   "outputs": [
    {
     "name": "stdout",
     "output_type": "stream",
     "text": [
      "                            OLS Regression Results                            \n",
      "==============================================================================\n",
      "Dep. Variable:                    COP   R-squared:                       0.958\n",
      "Model:                            OLS   Adj. R-squared:                  0.956\n",
      "Method:                 Least Squares   F-statistic:                     414.8\n",
      "Date:                Sun, 22 Oct 2023   Prob (F-statistic):           2.27e-49\n",
      "Time:                        20:23:39   Log-Likelihood:                -25.794\n",
      "No. Observations:                  78   AIC:                             61.59\n",
      "Df Residuals:                      73   BIC:                             73.37\n",
      "Df Model:                           4                                         \n",
      "Covariance Type:            nonrobust                                         \n",
      "==============================================================================\n",
      "                 coef    std err          t      P>|t|      [0.025      0.975]\n",
      "------------------------------------------------------------------------------\n",
      "Intercept     -0.1386     24.027     -0.006      0.995     -48.025      47.748\n",
      "M_HP          -0.9324     32.020     -0.029      0.977     -64.748      62.884\n",
      "LWT           -0.0677      0.074     -0.916      0.362      -0.215       0.080\n",
      "M_HP:LWT       0.0027      0.099      0.027      0.979      -0.194       0.200\n",
      "T_OA           0.0911      0.002     38.240      0.000       0.086       0.096\n",
      "==============================================================================\n",
      "Omnibus:                        0.744   Durbin-Watson:                   0.618\n",
      "Prob(Omnibus):                  0.689   Jarque-Bera (JB):                0.584\n",
      "Skew:                           0.211   Prob(JB):                        0.747\n",
      "Kurtosis:                       2.964   Cond. No.                     4.76e+05\n",
      "==============================================================================\n",
      "\n",
      "Notes:\n",
      "[1] Standard Errors assume that the covariance matrix of the errors is correctly specified.\n",
      "[2] The condition number is large, 4.76e+05. This might indicate that there are\n",
      "strong multicollinearity or other numerical problems.\n"
     ]
    }
   ],
   "source": [
    "# Declare the model\n",
    "mod = smf.ols(formula='COP ~ M_HP * LWT + T_OA', data=df)\n",
    "\n",
    "# Fit the model (finds the optimal coefficients, adding a random seed ensures consistency)\n",
    "np.random.seed(2) \n",
    "res = mod.fit()\n",
    "\n",
    "# Print the summary output\n",
    "print(res.summary())"
   ]
  },
  {
   "cell_type": "code",
   "execution_count": 9,
   "id": "499691f1-d878-41a5-b4ee-b7bbcea640a7",
   "metadata": {},
   "outputs": [
    {
     "name": "stdout",
     "output_type": "stream",
     "text": [
      "MSE = 0.113\n",
      "sqrt(MSE) = 0.337\n"
     ]
    }
   ],
   "source": [
    "def cop(massf, supT, outT):\n",
    "    return res.params.Intercept + res.params.M_HP*massf + res.params.LWT*supT \\\n",
    "    + res.params.T_OA*outT + res.params['M_HP:LWT']*(massf*supT)\n",
    "\n",
    "# Get all the predicted COPs in a list\n",
    "COP_list = []\n",
    "for i in range(len(df['T_OA'])):\n",
    "    COP_list.append(round(cop(df['M_HP'][i],df['LWT'][i],df['T_OA'][i]),2))\n",
    "    \n",
    "# Get a list of all the real COPs\n",
    "COP_list_real = list(df.COP)\n",
    "\n",
    "# Compare with the real COPs\n",
    "from sklearn.metrics import mean_squared_error\n",
    "mse = mean_squared_error(COP_list_real, COP_list)\n",
    "print(\"MSE = {}\".format(round(mse,3)))\n",
    "print(\"sqrt(MSE) = {}\".format(round(np.sqrt(mse),3)))\n",
    "\n",
    "# This is just for printing for excel\n",
    "\n",
    "#COP_list = [str(x).replace(\".\",\",\") for x in COP_list]\n",
    "#for i in range(len(df['T_OA'])):\n",
    "#    print(COP_list[i])"
   ]
  },
  {
   "cell_type": "markdown",
   "id": "9db23465-d545-4d97-88a7-cfee7a098af0",
   "metadata": {},
   "source": [
    "## Get $m_{HP}$ from $T_{sup,HP}$"
   ]
  },
  {
   "cell_type": "code",
   "execution_count": 10,
   "id": "de7347a1-9c22-44e6-bc4d-417f35737c59",
   "metadata": {},
   "outputs": [],
   "source": [
    "# Get the data\n",
    "df2 = pd.read_csv('mhp_data.csv', sep=';', decimal=',')\n",
    "\n",
    "# Declare the model\n",
    "mod = smf.ols(formula='m_HP ~ T_sup', data=df2)\n",
    "\n",
    "# Fit the model (finds the optimal coefficients, adding a random seed ensures consistency)\n",
    "np.random.seed(2) \n",
    "res = mod.fit()\n",
    "\n",
    "# Print the summary output\n",
    "# print(res.summary())\n",
    "\n",
    "def mass_HP(T_HP):\n",
    "    return res.params.Intercept + res.params.T_sup*T_HP"
   ]
  },
  {
   "cell_type": "code",
   "execution_count": 11,
   "id": "f23bb8c2-3a59-4396-96d1-369f10d1b52b",
   "metadata": {},
   "outputs": [
    {
     "name": "stdout",
     "output_type": "stream",
     "text": [
      "42.10714285714284\n"
     ]
    }
   ],
   "source": [
    "print(mass_HP(40))"
   ]
  }
 ],
 "metadata": {
  "kernelspec": {
   "display_name": "Python 3 (ipykernel)",
   "language": "python",
   "name": "python3"
  },
  "language_info": {
   "codemirror_mode": {
    "name": "ipython",
    "version": 3
   },
   "file_extension": ".py",
   "mimetype": "text/x-python",
   "name": "python",
   "nbconvert_exporter": "python",
   "pygments_lexer": "ipython3",
   "version": "3.8.11"
  }
 },
 "nbformat": 4,
 "nbformat_minor": 5
}
