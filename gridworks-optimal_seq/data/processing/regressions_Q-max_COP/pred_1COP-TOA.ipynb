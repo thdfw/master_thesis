{
 "cells": [
  {
   "cell_type": "code",
   "execution_count": 1,
   "id": "6703c651-7b72-427c-9245-cf9150297c87",
   "metadata": {},
   "outputs": [
    {
     "data": {
      "text/html": [
       "<div>\n",
       "<style scoped>\n",
       "    .dataframe tbody tr th:only-of-type {\n",
       "        vertical-align: middle;\n",
       "    }\n",
       "\n",
       "    .dataframe tbody tr th {\n",
       "        vertical-align: top;\n",
       "    }\n",
       "\n",
       "    .dataframe thead th {\n",
       "        text-align: right;\n",
       "    }\n",
       "</style>\n",
       "<table border=\"1\" class=\"dataframe\">\n",
       "  <thead>\n",
       "    <tr style=\"text-align: right;\">\n",
       "      <th></th>\n",
       "      <th>index</th>\n",
       "      <th>T_OA</th>\n",
       "      <th>T_sup_HP</th>\n",
       "      <th>COP_real</th>\n",
       "      <th>Q_HP_real</th>\n",
       "      <th>W_HP</th>\n",
       "      <th>m_HP</th>\n",
       "    </tr>\n",
       "  </thead>\n",
       "  <tbody>\n",
       "    <tr>\n",
       "      <th>0</th>\n",
       "      <td>0</td>\n",
       "      <td>248</td>\n",
       "      <td>303</td>\n",
       "      <td>0.480769</td>\n",
       "      <td>9.25</td>\n",
       "      <td>4.45</td>\n",
       "      <td>0.67</td>\n",
       "    </tr>\n",
       "    <tr>\n",
       "      <th>1</th>\n",
       "      <td>1</td>\n",
       "      <td>253</td>\n",
       "      <td>303</td>\n",
       "      <td>0.442478</td>\n",
       "      <td>10.63</td>\n",
       "      <td>4.70</td>\n",
       "      <td>0.67</td>\n",
       "    </tr>\n",
       "    <tr>\n",
       "      <th>2</th>\n",
       "      <td>2</td>\n",
       "      <td>258</td>\n",
       "      <td>303</td>\n",
       "      <td>0.408163</td>\n",
       "      <td>12.00</td>\n",
       "      <td>4.90</td>\n",
       "      <td>0.67</td>\n",
       "    </tr>\n",
       "    <tr>\n",
       "      <th>3</th>\n",
       "      <td>3</td>\n",
       "      <td>266</td>\n",
       "      <td>303</td>\n",
       "      <td>0.320513</td>\n",
       "      <td>14.00</td>\n",
       "      <td>4.49</td>\n",
       "      <td>0.67</td>\n",
       "    </tr>\n",
       "    <tr>\n",
       "      <th>4</th>\n",
       "      <td>4</td>\n",
       "      <td>269</td>\n",
       "      <td>303</td>\n",
       "      <td>0.303030</td>\n",
       "      <td>14.00</td>\n",
       "      <td>4.24</td>\n",
       "      <td>0.67</td>\n",
       "    </tr>\n",
       "    <tr>\n",
       "      <th>...</th>\n",
       "      <td>...</td>\n",
       "      <td>...</td>\n",
       "      <td>...</td>\n",
       "      <td>...</td>\n",
       "      <td>...</td>\n",
       "      <td>...</td>\n",
       "      <td>...</td>\n",
       "    </tr>\n",
       "    <tr>\n",
       "      <th>81</th>\n",
       "      <td>91</td>\n",
       "      <td>280</td>\n",
       "      <td>338</td>\n",
       "      <td>0.400000</td>\n",
       "      <td>14.00</td>\n",
       "      <td>5.60</td>\n",
       "      <td>0.34</td>\n",
       "    </tr>\n",
       "    <tr>\n",
       "      <th>82</th>\n",
       "      <td>92</td>\n",
       "      <td>283</td>\n",
       "      <td>338</td>\n",
       "      <td>0.377358</td>\n",
       "      <td>14.00</td>\n",
       "      <td>5.28</td>\n",
       "      <td>0.34</td>\n",
       "    </tr>\n",
       "    <tr>\n",
       "      <th>83</th>\n",
       "      <td>93</td>\n",
       "      <td>288</td>\n",
       "      <td>338</td>\n",
       "      <td>0.344828</td>\n",
       "      <td>14.00</td>\n",
       "      <td>4.83</td>\n",
       "      <td>0.34</td>\n",
       "    </tr>\n",
       "    <tr>\n",
       "      <th>84</th>\n",
       "      <td>94</td>\n",
       "      <td>291</td>\n",
       "      <td>338</td>\n",
       "      <td>0.327869</td>\n",
       "      <td>14.00</td>\n",
       "      <td>4.59</td>\n",
       "      <td>0.34</td>\n",
       "    </tr>\n",
       "    <tr>\n",
       "      <th>85</th>\n",
       "      <td>95</td>\n",
       "      <td>293</td>\n",
       "      <td>338</td>\n",
       "      <td>0.317460</td>\n",
       "      <td>14.00</td>\n",
       "      <td>4.44</td>\n",
       "      <td>0.34</td>\n",
       "    </tr>\n",
       "  </tbody>\n",
       "</table>\n",
       "<p>86 rows × 7 columns</p>\n",
       "</div>"
      ],
      "text/plain": [
       "    index  T_OA  T_sup_HP  COP_real  Q_HP_real  W_HP  m_HP\n",
       "0       0   248       303  0.480769       9.25  4.45  0.67\n",
       "1       1   253       303  0.442478      10.63  4.70  0.67\n",
       "2       2   258       303  0.408163      12.00  4.90  0.67\n",
       "3       3   266       303  0.320513      14.00  4.49  0.67\n",
       "4       4   269       303  0.303030      14.00  4.24  0.67\n",
       "..    ...   ...       ...       ...        ...   ...   ...\n",
       "81     91   280       338  0.400000      14.00  5.60  0.34\n",
       "82     92   283       338  0.377358      14.00  5.28  0.34\n",
       "83     93   288       338  0.344828      14.00  4.83  0.34\n",
       "84     94   291       338  0.327869      14.00  4.59  0.34\n",
       "85     95   293       338  0.317460      14.00  4.44  0.34\n",
       "\n",
       "[86 rows x 7 columns]"
      ]
     },
     "execution_count": 1,
     "metadata": {},
     "output_type": "execute_result"
    }
   ],
   "source": [
    "import pandas as pd\n",
    "import numpy as np\n",
    "import statsmodels.formula.api as smf\n",
    "import matplotlib.pyplot as plt\n",
    "\n",
    "df = pd.read_csv('COP_data_final.csv', sep=';', decimal=',')\n",
    "\n",
    "df['T_sup_HP'] = df['T_sup_HP'] + 273\n",
    "df['T_OA'] = df['T_OA'] + 273\n",
    "df['COP_real'] = 1/df['COP_real']\n",
    "\n",
    "# Get the position of NaN values and remove the rows\n",
    "df = df.replace('NaN', np.nan)\n",
    "NaN_index = np.where(df['COP_real'].isna())[0]\n",
    "df = df.dropna().reset_index()\n",
    "df_regression = df\n",
    "\n",
    "df"
   ]
  },
  {
   "cell_type": "markdown",
   "id": "36d70389-2f2e-40cf-997f-c9fff6d3d100",
   "metadata": {},
   "source": [
    "# Predicting COP with a linear model"
   ]
  },
  {
   "cell_type": "code",
   "execution_count": 2,
   "id": "2cd60330-f2e4-4a1e-b659-d98c22ae531b",
   "metadata": {},
   "outputs": [
    {
     "name": "stdout",
     "output_type": "stream",
     "text": [
      "                            OLS Regression Results                            \n",
      "==============================================================================\n",
      "Dep. Variable:               COP_real   R-squared:                       0.724\n",
      "Model:                            OLS   Adj. R-squared:                  0.721\n",
      "Method:                 Least Squares   F-statistic:                     220.4\n",
      "Date:                Wed, 07 Feb 2024   Prob (F-statistic):           3.32e-25\n",
      "Time:                        13:38:44   Log-Likelihood:                 107.91\n",
      "No. Observations:                  86   AIC:                            -211.8\n",
      "Df Residuals:                      84   BIC:                            -206.9\n",
      "Df Model:                           1                                         \n",
      "Covariance Type:            nonrobust                                         \n",
      "==============================================================================\n",
      "                 coef    std err          t      P>|t|      [0.025      0.975]\n",
      "------------------------------------------------------------------------------\n",
      "Intercept      2.6959      0.158     17.024      0.000       2.381       3.011\n",
      "T_OA          -0.0085      0.001    -14.846      0.000      -0.010      -0.007\n",
      "==============================================================================\n",
      "Omnibus:                        5.844   Durbin-Watson:                   0.450\n",
      "Prob(Omnibus):                  0.054   Jarque-Bera (JB):                5.779\n",
      "Skew:                           0.634   Prob(JB):                       0.0556\n",
      "Kurtosis:                       2.940   Cond. No.                     5.80e+03\n",
      "==============================================================================\n",
      "\n",
      "Notes:\n",
      "[1] Standard Errors assume that the covariance matrix of the errors is correctly specified.\n",
      "[2] The condition number is large, 5.8e+03. This might indicate that there are\n",
      "strong multicollinearity or other numerical problems.\n"
     ]
    }
   ],
   "source": [
    "# Declare the model\n",
    "mod = smf.ols(formula='COP_real ~ T_OA', data=df_regression)\n",
    "\n",
    "# Fit the model (finds the optimal coefficients, adding a random seed ensures consistency)\n",
    "np.random.seed(2) \n",
    "res = mod.fit()\n",
    "\n",
    "# Print the summary output\n",
    "print(res.summary())"
   ]
  },
  {
   "cell_type": "code",
   "execution_count": 3,
   "id": "6b693cb3-cfc4-40cc-9a66-cb93d476dd38",
   "metadata": {},
   "outputs": [
    {
     "name": "stdout",
     "output_type": "stream",
     "text": [
      "MSE = 0.005\n",
      "sqrt(MSE) = 0.199\n",
      "\n",
      "Intercept: 2.695868068327939\n",
      "T_OA coeff: -0.008532993681728315\n"
     ]
    }
   ],
   "source": [
    "def cop(outT):\n",
    "    return res.params.Intercept + res.params.T_OA*outT\n",
    "\n",
    "# Get all the predicted COPs in a list\n",
    "COP_list = []\n",
    "for i in range(len(df['T_OA'])):\n",
    "    COP_list.append(round(cop(df['T_OA'][i]),2))\n",
    "    #else: COP_list.append(14)\n",
    "\n",
    "# Get a list of all the real COPs\n",
    "COP_list_real = list(df.COP_real)\n",
    "\n",
    "# Compare with the real COPs\n",
    "from sklearn.metrics import mean_squared_error\n",
    "mse = mean_squared_error(COP_list_real, COP_list)\n",
    "print(\"MSE = {}\".format(round(mse,3)))\n",
    "print(\"sqrt(MSE) = {}\".format(round(np.sqrt(mse)/np.mean(df.COP_real),3)))\n",
    "\n",
    "print(\"\\nIntercept: {}\".format(res.params.Intercept))\n",
    "print(\"T_OA coeff: {}\".format(res.params.T_OA))"
   ]
  },
  {
   "cell_type": "code",
   "execution_count": 4,
   "id": "d0a57833-9c76-45e7-8377-993d080eed48",
   "metadata": {},
   "outputs": [
    {
     "name": "stdout",
     "output_type": "stream",
     "text": [
      "0.3834\n"
     ]
    }
   ],
   "source": [
    "print(round(cop(273-2),4))"
   ]
  },
  {
   "cell_type": "code",
   "execution_count": 5,
   "id": "cbe6bcff-67e9-44eb-a234-63fc9aab11fb",
   "metadata": {},
   "outputs": [
    {
     "name": "stderr",
     "output_type": "stream",
     "text": [
      "/Users/thomasdefauw/miniconda3/envs/ada/lib/python3.8/site-packages/pandas/core/indexing.py:1732: SettingWithCopyWarning: \n",
      "A value is trying to be set on a copy of a slice from a DataFrame\n",
      "\n",
      "See the caveats in the documentation: https://pandas.pydata.org/pandas-docs/stable/user_guide/indexing.html#returning-a-view-versus-a-copy\n",
      "  self._setitem_single_block(indexer, value, name)\n"
     ]
    }
   ],
   "source": [
    "df = pd.read_csv('COP_data_final.csv', sep=';', decimal=',')\n",
    "df['COP_pred'] = 0\n",
    "df['COP_real'] = 1/df['COP_real']\n",
    "\n",
    "j = 0\n",
    "for i in range(len(df.COP_real)):    \n",
    "    if i in NaN_index:\n",
    "        df['COP_pred'].iloc[i] = np.nan\n",
    "    else:\n",
    "        df['COP_pred'].iloc[i] = COP_list[j]\n",
    "        j = j+1\n",
    "        \n",
    "df = df.fillna(0)"
   ]
  },
  {
   "cell_type": "code",
   "execution_count": 6,
   "id": "8b12a9e3-db82-4ed6-b025-d16f15f6c849",
   "metadata": {},
   "outputs": [
    {
     "data": {
      "image/png": "[encoded data removed]",
      "text/plain": [
       "<Figure size 1368x720 with 16 Axes>"
      ]
     },
     "metadata": {
      "needs_background": "light"
     },
     "output_type": "display_data"
    }
   ],
   "source": [
    " # Creating a 2x4 (2 height, 4 width) grid of plots\n",
    "fig, ax = plt.subplots(2,4, figsize=(19,10), sharex=True, sharey=True)\n",
    "\n",
    "for i in range(2):\n",
    "    for j in range(4):\n",
    "        \n",
    "        # This is the trick: i*width + j\n",
    "        k = i*4 + j\n",
    "        begin = k*12\n",
    "        end = (k+1)*12\n",
    "        \n",
    "        # Plot the real and predicted 1/COP curves\n",
    "        ax[i,j].scatter(df.T_OA[begin:end], df.COP_real[begin:end], label=\"1/COP real\")\n",
    "        ax[i,j].scatter(df.T_OA[begin:end], df.COP_pred[begin:end], label=\"1/COP predicted\")\n",
    "        \n",
    "        # Set titles and labels\n",
    "        mse_k = mean_squared_error(df.COP_real[begin:end], df.COP_pred[begin:end])\n",
    "        ax[i,j].set_title(\"T_sup_HP = {}°C, RMSE = {}%\".format(df.T_sup_HP[begin+2], round(100*np.sqrt(mse_k)/np.mean(df.COP_real[begin:end]))))\n",
    "        if i==1: ax[i,j].set_xlabel(\"Outside temperature T_OA [°C]\")\n",
    "        if j==0: ax[i,j].set_ylabel(\"1/COP\")\n",
    "        ax[i,j].legend()\n",
    "        ax[i,j].set_ylim(0,1)\n",
    "        \n",
    "        # Plot the absolute error\n",
    "        ax2 = ax[i,j].twinx()\n",
    "        ax2.plot(df.T_OA[begin:end], abs(df.COP_real[begin:end] - df.COP_pred[begin:end]), alpha=0.2)\n",
    "        ax2.set_ylim(0,1)\n",
    "        if j==3: ax2.set_ylabel(\"Absolute error [W]\")\n",
    "        if j!=3: ax2.set_yticklabels([])\n",
    "        \n",
    "plt.savefig('/Users/thomasdefauw/Desktop/sine_wave.jpg', dpi=300)\n",
    "plt.show()\n"
   ]
  },
  {
   "cell_type": "code",
   "execution_count": null,
   "id": "eb1a2a68-b222-4797-bd4c-139065071ec0",
   "metadata": {},
   "outputs": [],
   "source": []
  },
  {
   "cell_type": "code",
   "execution_count": null,
   "id": "b4462ceb-b250-4495-80cc-bdc35f62d5ef",
   "metadata": {},
   "outputs": [],
   "source": []
  },
  {
   "cell_type": "code",
   "execution_count": null,
   "id": "8c731e70-f699-4e95-9aa1-e9e2b23011ef",
   "metadata": {},
   "outputs": [],
   "source": []
  }
 ],
 "metadata": {
  "kernelspec": {
   "display_name": "Python 3 (ipykernel)",
   "language": "python",
   "name": "python3"
  },
  "language_info": {
   "codemirror_mode": {
    "name": "ipython",
    "version": 3
   },
   "file_extension": ".py",
   "mimetype": "text/x-python",
   "name": "python",
   "nbconvert_exporter": "python",
   "pygments_lexer": "ipython3",
   "version": "3.8.11"
  }
 },
 "nbformat": 4,
 "nbformat_minor": 5
}
