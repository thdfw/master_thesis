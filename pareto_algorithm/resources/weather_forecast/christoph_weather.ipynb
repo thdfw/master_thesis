{
 "cells": [
  {
   "cell_type": "code",
   "execution_count": null,
   "id": "d7ed2e7c-aa44-4ac6-a121-fe995e2845c7",
   "metadata": {},
   "outputs": [
    {
     "name": "stderr",
     "output_type": "stream",
     "text": [
      "/Users/thomasdefauw/miniconda3/envs/ada/lib/python3.8/site-packages/pvlib/forecast.py:20: UserWarning: The forecast module algorithms and features are highly experimental. The API may change, the functionality may be consolidated into an io module, or the module may be separated into its own package.\n",
      "  warnings.warn(\n"
     ]
    },
    {
     "name": "stdout",
     "output_type": "stream",
     "text": [
      "2024-02-05 21:00:00\n",
      "2024-02-05 16:00:00-05:00\n"
     ]
    }
   ],
   "source": [
    "import os\n",
    "import sys\n",
    "import time\n",
    "import pytz\n",
    "import warnings\n",
    "import numpy as np\n",
    "import pandas as pd\n",
    "import datetime as dtm\n",
    "from pvlib.forecast import HRRR\n",
    "\n",
    "def get_forecast_pvlib(lat, lon, start_time, final_time):\n",
    "\n",
    "    forecaster = HRRR()\n",
    "    query_variables = list(forecaster.variables.values())\n",
    "    query_variables.remove('Temperature_height_above_ground')\n",
    "    query_variables.remove('v-component_of_wind_height_above_ground')\n",
    "    query_variables.remove('u-component_of_wind_height_above_ground')\n",
    "\n",
    "    wf1 = forecaster.get_data(lat, lon, start_time, final_time,\n",
    "                              query_variables=query_variables)\n",
    "\n",
    "    forecaster = HRRR()\n",
    "    wf2 = forecaster.get_data(lat, lon, start_time, final_time,\n",
    "                              query_variables=['Temperature_height_above_ground'])\n",
    "\n",
    "    wf = pd.concat([wf1, wf2], axis=1)\n",
    "    return wf\n",
    "\n",
    "class weather_forecaster(object):\n",
    "\n",
    "    # Initialize Maine lat, long, time zone, irradiance, horizon, model\n",
    "    def __init__(self, latitude=45.367584, longitude=-68.972168, tz='America/New_York',\n",
    "                 irrad_vars=['ghi', 'dni', 'dhi'], horizon=48, model=HRRR):\n",
    "        \n",
    "        self.latitude = latitude\n",
    "        self.longitude = longitude\n",
    "        self.tz = tz\n",
    "        self.irrad_vars = irrad_vars\n",
    "        self.horizon = horizon\n",
    "        self.forecaster = model()\n",
    "        \n",
    "    def get_forecast(self, start=None, end=None):\n",
    "\n",
    "        # If no start time is provided, choose now (converted to UTC timezone)\n",
    "        if not start:\n",
    "            start = dtm.datetime.now().replace(minute=0, second=0, microsecond=0)\n",
    "            start = start + dtm.timedelta(hours=4) # Time in Maine = Berkeley + 3 hours + 1 hour forecast\n",
    "            self.start_dt = pd.Timestamp(start, tz='UTC').tz_convert(self.tz)\n",
    "            print(start)\n",
    "            print(self.start_dt)\n",
    "\n",
    "        # Otherwise read the provided start time\n",
    "        else:\n",
    "            self.start_dt = pd.Timestamp(start, tz=self.tz)\n",
    "        \n",
    "        # If no end time is provided, choose now (UTC) + horizon\n",
    "        if not end:\n",
    "            self.end_dt = self.start_dt + pd.Timedelta(hours=self.horizon)            \n",
    "        # Otherwise read th provided end time\n",
    "        else:\n",
    "            self.end_dt = end\n",
    "\n",
    "        # Get the forecast from pvlib\n",
    "        self.forecast = get_forecast_pvlib(self.latitude, self.longitude, self.start_dt, self.end_dt)\n",
    "        \n",
    "        # Set the forecast of some columns to 0\n",
    "        dummy_forecast_cols = ['wind_speed_u', 'wind_speed_v',\n",
    "                       'Low_cloud_cover_low_cloud', 'Medium_cloud_cover_middle_cloud', 'High_cloud_cover_high_cloud',\n",
    "                       'Pressure_surface', 'Wind_speed_gust_surface']\n",
    "        for c in dummy_forecast_cols:\n",
    "            self.forecast[c] = 0\n",
    "\n",
    "        # Set the location\n",
    "        self.forecaster.set_location(self.start_dt.tz, self.latitude, self.longitude)\n",
    "        \n",
    "        # Process data\n",
    "        # Duplicate last beacuse of bug in pvlib\n",
    "        self.forecast.loc[self.forecast.index[-1]+pd.DateOffset(hours=1), :] = self.forecast.iloc[-1]\n",
    "        self.data = self.forecaster.process_data(self.forecast)\n",
    "        self.data = self.data.loc[self.forecast.index[:-1]]\n",
    "        self.data.index = self.data.index.tz_localize(None)\n",
    "\n",
    "        print(self.data)\n",
    "        return list(self.data['temp_air'])\n",
    "    \n",
    "# Initialize\n",
    "forecaster = weather_forecaster()\n",
    "\n",
    "# Get the forecast\n",
    "data = forecaster.get_forecast()\n",
    "data"
   ]
  },
  {
   "cell_type": "code",
   "execution_count": null,
   "id": "2e4d355e-e7aa-432f-b9fc-18a60f3be8c8",
   "metadata": {},
   "outputs": [],
   "source": []
  },
  {
   "cell_type": "code",
   "execution_count": null,
   "id": "ec54dde7-397a-4377-9d6c-0e7cb867e6c8",
   "metadata": {},
   "outputs": [],
   "source": []
  }
 ],
 "metadata": {
  "kernelspec": {
   "display_name": "Python 3 (ipykernel)",
   "language": "python",
   "name": "python3"
  },
  "language_info": {
   "codemirror_mode": {
    "name": "ipython",
    "version": 3
   },
   "file_extension": ".py",
   "mimetype": "text/x-python",
   "name": "python",
   "nbconvert_exporter": "python",
   "pygments_lexer": "ipython3",
   "version": "3.8.11"
  }
 },
 "nbformat": 4,
 "nbformat_minor": 5
}
